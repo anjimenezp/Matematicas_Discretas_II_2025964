{
  "nbformat": 4,
  "nbformat_minor": 0,
  "metadata": {
    "colab": {
      "name": "Taller_RSA",
      "provenance": [],
      "collapsed_sections": [],
      "mount_file_id": "1jfCViwb11FX8KuHlWlQrR-rkdTxrYxzp",
      "authorship_tag": "ABX9TyNSy7HW2Qke6ahKbxd3kBC5",
      "include_colab_link": true
    },
    "kernelspec": {
      "name": "python3",
      "display_name": "Python 3"
    }
  },
  "cells": [
    {
      "cell_type": "markdown",
      "metadata": {
        "id": "view-in-github",
        "colab_type": "text"
      },
      "source": [
        "<a href=\"https://colab.research.google.com/github/anjimenezp/Matematicas_Discretas_II_2025964/blob/talleres/Taller_RSA.ipynb\" target=\"_parent\"><img src=\"https://colab.research.google.com/assets/colab-badge.svg\" alt=\"Open In Colab\"/></a>"
      ]
    },
    {
      "cell_type": "markdown",
      "metadata": {
        "id": "A5_0ALT3hHQf",
        "colab_type": "text"
      },
      "source": [
        "<p><img alt=\"UNAL logo\" height=\"100px\" src=\"https://www.ingenieria.bogota.unal.edu.co/concursodocente_lapaz/images/logosimbolo_central_2c.png\" align=\"right\" hspace=\"0px\" vspace=\"0px\"></p>"
      ]
    },
    {
      "cell_type": "markdown",
      "metadata": {
        "id": "osm6YUL5dGlR",
        "colab_type": "text"
      },
      "source": [
        "<H1 align=\"center\"> Taller RSA </H1>\n",
        "<h3 align=\"center\">Andrés Felipe Jiménez Pérez</h3>\n",
        "<h3 align=\"center\">2025964 - Matemáticas Discretas II - Grupo 1</h3>\n",
        "<h4 align=\"center\">UNIVERSIDAD NACIONAL DE COLOMBIA</h4>\n",
        "<h3 align=\"center\">Junio 21, 2020</h3>"
      ]
    },
    {
      "cell_type": "markdown",
      "metadata": {
        "id": "aI8dFcekboQD",
        "colab_type": "text"
      },
      "source": [
        "## **1. Problema**\n",
        "\n",
        "**Se especifica cuál es el problema que resuelve RSA, y por qué es necesario introducir un algoritmo de este tipo.**"
      ]
    },
    {
      "cell_type": "markdown",
      "metadata": {
        "id": "gA9Xf4hXFqpQ",
        "colab_type": "text"
      },
      "source": [
        "El RSA (Rivest, Shamir y Adleman, creadores del sistema criptográfico), es un criptosistema de clave pública. A grandes rasgos, el problema RSA es la tarea de calcular de manera eficiente un $M$ dada una clave pública RSA $(N, e)$ y un texto encriptado $C \\equiv M^e \\pmod N$. Siendo $M$ el mensaje enviado confidencialmente de $A$ a $B$.\n",
        "\n",
        "Para entender lo dicho en el párrafo anterior, es necesario entender que el criptosistema RSA permite la comunicación confidencial entre dos parte $A$ y $B$, dandole a cada parte su propio par de claves o llaves (pública y privada). Siguiendo la idea anterior $A$ tendrá el par $(KP_A, kp_A)$, y $B$ $(KP_B, kp_B)$. Así, $KP$ es la clave pública conocida por ambas partes, y $kp$ es la clave privada la cual posee cada parte en secreto. Cada clave se compone de la siguiente manera:\n",
        "\n",
        "$$KP_A = (e_A, N_A)$$\n",
        "\n",
        "$$kp_A = (d_A, N_A)$$\n",
        "\n",
        "Luego, para proceder a encriptar un mensaje $M$ enviado de $A$ a $B$ confidencialmente:\n",
        "\n",
        "1. $A$ debe conocer la pareja de números $KP_B = (e_B, N_B)$ del receptor $B$.\n",
        "2. Expresa el mensaje como un entero. Por ejemplo si el mensaje es \"Hi\", lo traduce usando _ASCII Code_: “H” 072 e \"i\" 105. Con $M < N$.\n",
        "3. Encripta el mensaje mediante la expresión: $C \\equiv M^{e_B} \\pmod {N_B}$.\n",
        "4. Envía criptomensaje $C$.\n",
        "\n",
        "Finalmente, para desencriptar el criptomensaje $C$ recibido por $B$:\n",
        "\n",
        "1. $B$ mediante $kp_B = (d_B, N_B)$ (siendo $d_B$ su clave privada) desencripta mediante la expresión: $M \\equiv C^{d_B} \\pmod {N_B}$.\n",
        "2. Obtiene el mensaje original expresado en su forma entera.\n",
        "\n",
        "Es necesario introducir un algoritmo de este tipo puesto que se requiere una forma eficiente de garantizar la seguridad y confidencialidad de la comunicación entre dos partes. En principio se cifra un mensaje, el cual será transmitido por una canal inseguro, y luego se descifra cuando ha llegado al receptor. Además de lo anterior, este algoritmo proporciona la posibilidad de verificar la autenticidad del receptor, ya que al encriptar es necesario la llave pública exclusiva del destinatario, para que luego éste sea capaz de desencriptarla mediante su llave privada.\n",
        "\n",
        "La se seguridad de este criptosistema reside en lo siguiente (página 2 de la Referencia [5]): \"La seguridad de este algoritmo está basada en la dificultad de factorizar n como producto de primos cuando estos son muy grandes, el tiempo requerido por un ordenador actual para dicha tarea es inmenso por muy potente que sea su capacidad de cálculo\"."
      ]
    },
    {
      "cell_type": "markdown",
      "metadata": {
        "id": "780ljPwyrb22",
        "colab_type": "text"
      },
      "source": [
        "## **2. Desarrollo matemático del algoritmo**\n",
        "\n",
        "**Se especifican todos los pasos del algoritmo y se explica de forma detallada cada uno de los pasos. Si el algoritmo hace uso de algunos resultados formales (teoremas), estos se enuncian y se prueban de ser necesario.**"
      ]
    },
    {
      "cell_type": "markdown",
      "metadata": {
        "id": "1IOXgw0NkH_G",
        "colab_type": "text"
      },
      "source": [
        "Como ayuda a la comprensión del algorito, se presenta el siguiente diagrama:"
      ]
    },
    {
      "cell_type": "markdown",
      "metadata": {
        "id": "TL76N-or6WP6",
        "colab_type": "text"
      },
      "source": [
        "<p><img alt=\"RSA algorithm\" height=\"200px\" src=\"https://javainterviewpoint.com/wp-content/uploads/2019/03/RSA-Encryption-and-Decryption-in-Java.png\" align=\"center\" hspace=\"0px\" vspace=\"0px\"></p>"
      ]
    },
    {
      "cell_type": "markdown",
      "metadata": {
        "id": "byW8k6UhBE0s",
        "colab_type": "text"
      },
      "source": [
        "Ahora bien, a medida que se explique el desarrollo matemático del algoritmo se hirá planteando el correspondiente código el cual será implementado en la cuarta sección."
      ]
    },
    {
      "cell_type": "markdown",
      "metadata": {
        "id": "o2QRYHlMBqQo",
        "colab_type": "text"
      },
      "source": [
        "Como se mencionó en la primera parte del presente docuemento, el emisor del mensaje debe conocer la llave pública del receptor. Asimismo, tal destinatario posee una correspondite llave privada. Por tanto, el primer paso es generar tales llaves como se muestra a continuación:\n",
        "\n",
        "1. Generar dos números primos $p$ y $q$ distintos. Entre más grandes sean, más \"seguro\" será el cifrado.\n",
        "\n",
        "2. Calcular el módulo a usar en el RSA:\n",
        "$$N = p \\cdot q$$\n",
        "\n",
        "3. Calcular función _totiente_ de Euler:\n",
        "$$\\varphi (N) = (p - 1)(q - 1)$$\n",
        "\n",
        "4. Seleciconar llave pública $e$ menor y coprimo (primo relativo) con $\\varphi (N)$, es decir que no tiene ningún divisor en común excepto el 1:\n",
        "$$mcd(e, \\varphi (N)) = 1$$\n",
        "$$1 < e <  \\varphi (N)$$\n",
        "\n",
        "5. Seleciconar llave privada $d$, la cual es el inverso multiplicativo de $e$ módulo $\\varphi (N)$:\n",
        "$$e \\cdot d \\equiv 1 \\pmod {\\varphi (N) }$$\n",
        "Esto se puede hallar mediante el algoritmo extendido de Euclides. Siendo éste un una ligera modificación del algoritmo de Euclides que permite además expresar al máximo común divisor como una combinación lineal.\n",
        "\n",
        "Luego, para proceder a encriptar un mensaje $M$ enviado de $A$ a $B$ confidencialmente:\n",
        "\n",
        "1. $A$ debe conocer la pareja de números $KP_B = (e_B, N_B)$ del receptor $B$.\n",
        "2. Expresa el mensaje como un entero. Por ejemplo si el mensaje es \"Hi\", lo traduce usando _ASCII Code_: “H” 072 e \"i\" 105. Con $M < N$.\n",
        "3. Encripta el mensaje mediante la expresión: $C \\equiv M^{e_B} \\pmod {N_B}$.\n",
        "4. Envía criptomensaje $C$.\n",
        "\n",
        "Finalmente, para desencriptar el criptomensaje $C$ recibido por $B$:\n",
        "\n",
        "1. $B$ mediante $kp_B = (d_B, N_B)$ (siendo $d_B$ su clave privada) desencripta mediante la expresión: $M \\equiv C^{d_B} \\pmod {N_B}$.\n",
        "2. Obtiene el mensaje original expresado en su forma entera.\n"
      ]
    },
    {
      "cell_type": "markdown",
      "metadata": {
        "id": "UrL2wfNHq3PK",
        "colab_type": "text"
      },
      "source": [
        "### **2.1. Generar dos números primos $p$ y $q$ distintos. Entre más grandes sean, más \"seguro\" será el cifrado.**\n"
      ]
    },
    {
      "cell_type": "markdown",
      "metadata": {
        "id": "lGiow4tIqyDL",
        "colab_type": "text"
      },
      "source": [
        "Primero es bueno definir en bits el rango donde estarán las llaves (lo denotaremos como $tamanioLlave$), teniendo en cuenta que si se define $tamanioLlave = 4 bits$ entonces el rango será:\n",
        "\n",
        "$$ 1000 \\leq key \\leq 1111 $$\n",
        "\n",
        "lo que es igual a \n",
        "\n",
        "$$ 15 \\leq key \\leq 8 $$\n",
        "\n",
        "o matemáticamente\n",
        "\n",
        "$$ 2^{tamanioLlave - 1} \\leq key \\leq 2^{tamanioLlave} - 1$$\n",
        "\n",
        "Ahora bien, definiremos una función nombrada $generarLlaves(tamanioLlaves)$:"
      ]
    },
    {
      "cell_type": "code",
      "metadata": {
        "id": "z0gC3ZCWrjnI",
        "colab_type": "code",
        "colab": {}
      },
      "source": [
        "def generarLlaves(tamanioLlave): \n",
        "    e = d = N = 0   # e : llave pública; d : llave privada; N: p * q\n",
        "\n",
        "    while True:\n",
        "        # vamos a obtener números primos p y q distintos entre sí\n",
        "        p = generarPrimos(tamanioLlave)\n",
        "        q = generarPrimos(tamanioLlave)\n",
        "        if p != q:\n",
        "            break\n",
        "\n",
        "    print(f\"\\np: {p}\")\n",
        "    print(f\"q: {q}\")\n",
        "\n",
        "    N = p * q\n",
        "    phiN = (p - 1) * (q - 1)    #función totient\n",
        "\n",
        "    # elegimos e, el cual es coprimo con phiN \n",
        "    # 1 <= e <= phiN\n",
        "    while True:\n",
        "        e = random.randrange(2 ** (tamanioLlave - 1), 2 ** tamanioLlave - 1)\n",
        "        if (esCoprimo(phiN, e)):\n",
        "            break   # termina loop\n",
        "\n",
        "    # elegimos d, el cual es el inverso multiplicativo modular de e\n",
        "    # modulo phiN\n",
        "    # e * d (mod phiN) = 1\n",
        "\n",
        "    d = modularInv(e, phiN)\n",
        "\n",
        "    return e, d, N"
      ],
      "execution_count": null,
      "outputs": []
    },
    {
      "cell_type": "markdown",
      "metadata": {
        "id": "1IrVF8nv1wh8",
        "colab_type": "text"
      },
      "source": [
        "La funcion $generarPrimos$ consiste en crear aleatoriamente números con el rango definido por $tamanioLlave$ (tal como se explico anteriormente), y luego se verifica si tal número es primo con la función $esPrimo(num)$. Finalmente, se retorna el número primo hallado:"
      ]
    },
    {
      "cell_type": "code",
      "metadata": {
        "id": "BUdFuDMh2myb",
        "colab_type": "code",
        "colab": {}
      },
      "source": [
        "def generarPrimos(tamanioLlave):\n",
        "    \n",
        "    # tamanioLlave es el rango de bits que\n",
        "    # tendrá el primo generado aleatoriamente\n",
        "\n",
        "    while True:\n",
        "        num = random.randrange(2 ** (tamanioLlave - 1), 2 ** tamanioLlave - 1)\n",
        "        if(esPrimo(num)):\n",
        "            return num"
      ],
      "execution_count": null,
      "outputs": []
    },
    {
      "cell_type": "markdown",
      "metadata": {
        "id": "9KRwiAlg2xGg",
        "colab_type": "text"
      },
      "source": [
        "La función $esPrimo(n)$ se compone a grandes rasgos de cuatro secciones con el fin de crear un test de primalidad. Se retorna $True$ si el número es primo:\n",
        "\n",
        "1. El $0$ y el $1$ son números especiales que no se consideran primos ni compuestos. Por ende retorna $False$.\n",
        "\n",
        "2. Para hacer eficiente el test, se tiene en memoria un arreglo de primos pequeños. Así, si $n$ no se encuentra en el arreglo retorna $False$.\n",
        "\n",
        "3. Si $n$ es divisible por algún primo pequeño del arreglo, retorna $False$.\n",
        "\n",
        "4. Probar que no es primo mediante test de primalidad de _Miller Rabin_. Tal test es un método probabilístico, pero es generalmente preferido sobre el test de primalidad mediante método de Fermat. Devuelve falso si $n$ es compuesto y devuelve verdadero si $n$ es probablemente primo. $k$ es un parámetro de entrada que determina nivel de precisión. Un valor más alto de $k$ indica más precisión. En la siguiente sección indagaremos en el test de primalidad de _Miller Rabin_.\n",
        "\n",
        "El código a continuación es el desarrollo de la función $esPrimo(n)$, compuesta por los puntos anteriormente mencionados."
      ]
    },
    {
      "cell_type": "code",
      "metadata": {
        "id": "HEu-RJMp897u",
        "colab_type": "code",
        "colab": {}
      },
      "source": [
        "def esPrimo(n):\n",
        "\n",
        "    #Retorna True si n es primo\n",
        "    #y se recurre al test de primalidada de Miller Rabin para tener más certeza\n",
        "    \n",
        "\n",
        "    # 1. El 0 y el 1 son números especiales que no se consideran primos ni compuestos.\n",
        "    if n < 2:\n",
        "        return False\n",
        "\n",
        "    # 2. Arreglo de primos pequeños en memoria (https://pastebin.com/2yGpCpJr, 2020)\n",
        "    primosPequenios = [2, 3, 5, 7, 11, 13, 17, 19, 23, 29, 31, 37, 41, 43, 47, 53, 59, 61, 67, 71, 73, 79, 83, 89, 97, 101, 103, 107, 109, 113, 127, 131, 137, 139, 149, 151, 157, 163, 167, 173, 179, 181, 191, 193, 197, 199, 211, 223, 227, 229, 233, 239, 241, 251, 257, 263, 269, 271, 277, 281, 283, 293, 307, 311, 313, 317, 331, 337, 347, 349, 353, 359, 367, 373, 379, 383, 389, 397, 401, 409, 419, 421, 431, 433, 439, 443, 449, 457, 461, 463, 467, 479, 487, 491, 499, 503, 509, 521, 523, 541, 547, 557, 563, 569, 571, 577, 587, 593, 599, 601, 607, 613, 617, 619, 631, 641, 643, 647, 653, 659, 661, 673, 677, 683, 691, 701, 709, 719, 727, 733, 739, 743, 751, 757, 761, 769, 773, 787, 797, 809, 811, 821, 823, 827, 829, 839, 853, 857, 859, 863, 877, 881, 883, 887, 907, 911, 919, 929, 937, 941, 947, 953, 967, 971, 977, 983, 991, 997]\n",
        "\n",
        "    # si n está en arreglo primosPequenios\n",
        "    if n in primosPequenios:\n",
        "        return True\n",
        "\n",
        "    # 3. Si n es divisible por primos pequeños\n",
        "    for primo in primosPequenios:\n",
        "        if n % primo == 0:\n",
        "            return False\n",
        "\n",
        "    # 4. Encontrar un número c tal que c * 2 ^ r = n - 1. \n",
        "    c = n - 1   # c es par porque n no es divisible por 2\n",
        "    while c % 2 == 0: \n",
        "        c /= 2  # hace c impar\n",
        "\n",
        "    # Probar que no es primo mediante test de primalidad de Miller Rabin\n",
        "    # Tal test es un método probabilístico, pero es generalmente preferido\n",
        "    # sobre el test de primalidad mediante método de Fermat\n",
        "    # Devuelve falso si n es compuesto y devuelve verdadero si n \n",
        "    # es probablemente primo. k es un parámetro de entrada que determina \n",
        "    # nivel de precisión. Un valor más alto de k indica más precisión.    \n",
        "    for i in range(128):\n",
        "        if not testPrimalidadRabin(n, c):\n",
        "            return False\n",
        "    \n",
        "    return True"
      ],
      "execution_count": null,
      "outputs": []
    },
    {
      "cell_type": "markdown",
      "metadata": {
        "id": "lYna3Nd67ikY",
        "colab_type": "text"
      },
      "source": [
        "#### **2.1.1. Test de primalidad de Miller Rabin**"
      ]
    },
    {
      "cell_type": "markdown",
      "metadata": {
        "id": "yiUMioZZUHPQ",
        "colab_type": "text"
      },
      "source": [
        "Como se puede detallar en el la referencia [5], \"El test de Miller-Rabin es el sistema que más se utiliza en la actualidad dada su rapidez, aunque se sacrifica la certitud de un test de primalidad, con pocas iteraciones que se realicen se alcanza una muy buena precisión. El algoritmo se basa en el siguiente lema:\"\n",
        "\n",
        "**Lema 2.1.1.** Sea $p$ un número primo, y sea $x \\in \\mathbb Z_p$ tal que\n",
        "\n",
        "$$x^2 \\equiv 1 \\pmod p$$\n",
        "\n",
        "entonces, $x \\equiv 1$ o bien $x \\equiv p - 1$ en módulo $p$.\n",
        "\n",
        "**Demostración.** Dado que el número $p$ es número primo, y $\\mathbb Z_p$ es un dominio de integridad (i.e. un anillo de integridad $(A,+,\\cdot)$ con unidad, conmutativa y con división se llama dominio de integridad cuando no posee elementos divisores de cero), por tanto se tine\n",
        "\n",
        "$$x^2 \\equiv 1 \\pmod p$$\n",
        "\n",
        "$$x^2 - 1 \\equiv 0 \\pmod p$$\n",
        "\n",
        "$$(x + 1)(x - 1) \\equiv 0 \\pmod p$$\n",
        "\n",
        "Como $\\mathbb Z_p$ es un dominio de integridad, se tiene o bien $x \\equiv 1$ o bien $x \\equiv -1 \\equiv p - 1$. $\\square$\n",
        "\n",
        "**Lema 2.1.2. (Miller - Rabin).** Sea $p$ un número primo, expresamos $p - 1 \\equiv 2^s m$ donde $m$ es número impar, entonces para todo $a$ en $\\mathbb Z_p$ ($\\forall a \\in \\mathbb Z_p$) se tiene\n",
        "\n",
        "$$a^m \\equiv 1$$\n",
        "\n",
        "o por el contrario, existe al menos un $r$ entre $0$ y $s - 1$ tal que\n",
        "\n",
        "$$a^{2^r m} \\equiv -1$$\n",
        "\n",
        "**Demostración.** Por el teorema de Fermat (demostrado en el Sección 2.1.2.) tenemos que \n",
        "\n",
        "$$a^{p - 1} \\equiv a^{2^s m} \\equiv 1$$\n",
        "\n",
        "luego por el lema anterior tenemos\n",
        "\n",
        "$$a^{2^{s - 1} m} \\equiv 1$$\n",
        "\n",
        "o bien\n",
        "\n",
        "$$a^{2^{s - 1} m} \\equiv -1$$\n",
        "\n",
        "En el caso de que $a^{2^{s - 1} m} \\equiv -1$ tenemos el resultado. En el caso contrario si $s \\neq 1$ se puede volver a calcular la raíz cuadrada y tenemos de nuevo por el lema anterior \n",
        "\n",
        "$$a^{2^{s - 2} m} \\equiv 1$$\n",
        "\n",
        "o bien\n",
        "\n",
        "$$a^{2^{s - 2} m} \\equiv -1$$\n",
        "\n",
        "iterando sucesivamente hasta econtrar $-1$ o bien llegamos a\n",
        "\n",
        "$$a^{2^{0} m} \\equiv a^m \\equiv 1$$\n",
        "\n",
        "o \n",
        "\n",
        "$$a^m \\equiv -1$$\n",
        "\n",
        "Así, en ambos casos obtenemos el resultado. $\\square$\n",
        "\n",
        "El código a continuación es la respectiva implementación del test de primalidad de Miller Rabin."
      ]
    },
    {
      "cell_type": "code",
      "metadata": {
        "id": "YA4y5j1RdLIk",
        "colab_type": "code",
        "colab": {}
      },
      "source": [
        "# Test de primalidad de Miller Rabin. Para más información: (https://www.geeksforgeeks.org/primality-test-set-3-miller-rabin/, 2020)\n",
        "# Probar que no es primo mediante test de primalidad de Miller Rabin.\n",
        "# Tal test es un método probabilístico, pero es generalmente preferido\n",
        "# sobre el test de primalidad mediante método de Fermat.\n",
        "# Devuelve falso si n es compuesto y devuelve verdadero si n \n",
        "# es probablemente primo. k es un parámetro de entrada que determina \n",
        "# nivel de precisión. Un valor más alto de k indica más precisión.    \n",
        "def testPrimalidadRabin(n, d):\n",
        "    a = random.randint(2, (n - 2))\n",
        "    # a^c % n\n",
        "    x = pow(a, int(d), n)\n",
        "    if x == 1 or x == n - 1:\n",
        "        return True\n",
        "\n",
        "    # x^2 % n\n",
        "    while d != n - 1:\n",
        "        x = pow(x, 2, n)\n",
        "        d *= 2\n",
        "\n",
        "        if x == 1:\n",
        "            return False\n",
        "        elif x == n - 1:\n",
        "            return True\n",
        "\n",
        "    # es no primo\n",
        "    return False"
      ],
      "execution_count": null,
      "outputs": []
    },
    {
      "cell_type": "markdown",
      "metadata": {
        "id": "7uARZHQYjSZZ",
        "colab_type": "text"
      },
      "source": [
        "#### **2.1.2. Pequeño teorema de Fermat**"
      ]
    },
    {
      "cell_type": "markdown",
      "metadata": {
        "id": "L-O-uKuWjew_",
        "colab_type": "text"
      },
      "source": [
        "Al estudiar la referencia [5], se observa la importancia del siguiente Teorema para lograr el desarrollo del test de primalidad desarrollado en el presente algoritmo criptográfico.\n",
        "\n",
        "**Teorema 2.1.1. (Pequeño teorema de Fermat).** Sea $p \\in \\mathbb N$ un número primo, entoces se tiene que $\\forall a \\in \\mathbb Z_p$, $a \\neq 0$, $p \\nmid a$\n",
        "\n",
        "$$a^{p - 1} \\equiv 1 \\pmod p$$\n",
        "\n",
        "De forma equivalente podemos escribir $a^p \\equiv a \\pmod p$\n",
        "\n",
        "Primero veamos un ejemplo\n",
        "\n",
        "$$2^{5 - 1} = 2^4 = 16 \\equiv 1 \\pmod 5$$\n",
        "\n",
        "Para observar _Full Proof_ del teorema véase Referencia [5]. A continuación se muestra un _Sketch of Proof_.\n",
        "\n",
        "**Sketch of Proof.** En primera medida es posible ver que $$0, 1, 2, 3, \\cdots, p - 1$$ son todos elementos de $\\pmod p$. Ahora nótese que dado $\\pmod 5$ y $a = 8$ tenemos $$8 \\times (1, 2, 3, 4) = 8, 16, 24, 32$$ pero $$8, 16, 24, 32 \\equiv 3, 1, 4, 2 \\pmod 5$$ por tanto $$a \\times (1, 2, 3, \\cdots, p - 1) \\equiv (1, 2, 3, \\cdots, p - 1) \\pmod p$$ entonces $$a \\cdot 2a \\cdot 3a \\cdots (p - 1) a \\equiv 1 \\cdot 2 \\cdot 3 \\cdots (p - 1) \\pmod p$$ simplificando $$a^{p - 1} (p - 1)! \\equiv (p - 1)! \\pmod p$$\n",
        "finalmente $$a^{p - 1} \\equiv 1 \\pmod p$$ $\\square$"
      ]
    },
    {
      "cell_type": "markdown",
      "metadata": {
        "id": "vBYt16rvkzs0",
        "colab_type": "text"
      },
      "source": [
        "### **2.2. Calcular el módulo a usar en el RSA**"
      ]
    },
    {
      "cell_type": "markdown",
      "metadata": {
        "id": "FsAJNcYQlOLt",
        "colab_type": "text"
      },
      "source": [
        "Luego de obtener los números primos $p$ y $q$ mediante el algoritmo explicado en las anteriores subsecciones, se calcula de la siguiente manera el módulo que se usará en el presente algoritmo criptográfico:\n",
        "\n",
        "\n",
        "$$N = p \\cdot q$$"
      ]
    },
    {
      "cell_type": "markdown",
      "metadata": {
        "id": "Fvs9VGG4l1BQ",
        "colab_type": "text"
      },
      "source": [
        "### **2.3. Calcular función _totiente_ de Euler**"
      ]
    },
    {
      "cell_type": "markdown",
      "metadata": {
        "id": "a9RsvwN2l5O6",
        "colab_type": "text"
      },
      "source": [
        "La función _totient_ Euler, también conocida como la función _phi_ ($\\varphi (N)$), retorna el conteo de números enteros positivos $\\leq N$ que son primos relativos a $N$, es decir los números cuyo MCD (Máximo Común Divisor) con $N$ es 1.\n",
        "\n",
        "$$\\varphi (N) = (p - 1)(q - 1)$$\n",
        "\n",
        "**Demostración.** Si se tiene el conjunto $\\{1, 2, \\cdots, pq\\}$, se tendrá que sacar los números que no son primos relativos con $pq$.\n",
        "\n",
        "Un entero no es primo relativo a $pq$ si y solo si éste es múltiplo de $p$ o $q$. Dado que todo $p-esimo$ entero es un múltiplo de $p$, se puede concluir que hay $\\frac{1}{p} (pq) = q$ enteros en la \"lista\" que son multiplos de $p$. Mediante un razonamiento análogo, hay  $\\frac{1}{q} (pq) = p$ multiplos de $q$ en la \"lista\" que son multiplos de $q$. Sin embago se ha contado $pq$ dos veces, ya que éste es un multiplo de ambos $p$ y $q$. Por tanto,\n",
        "\n",
        "$$\\phi (pq) = pq - (\\#\\_de\\_múltiplos\\_de\\_p) - (\\#\\_de\\_múltiplos\\_de\\_q) + (\\#\\_de\\_múltiplos\\_de\\_pq)$$\n",
        "\n",
        "$$= pq - q - p + 1$$\n",
        "\n",
        "$$= (p - 1) (q - 1)$$ $\\square$"
      ]
    },
    {
      "cell_type": "markdown",
      "metadata": {
        "id": "lh6mtIPQSKCW",
        "colab_type": "text"
      },
      "source": [
        "### **2.4. Seleciconar llave pública $e$ menor y coprimo (primo relativo) con $\\varphi (N)$, es decir que no tiene ningún divisor en común excepto el 1**"
      ]
    },
    {
      "cell_type": "markdown",
      "metadata": {
        "id": "T0zuHKz-Sjz5",
        "colab_type": "text"
      },
      "source": [
        "El presente punto se basa en lo siguiente\n",
        "\n",
        "$$mcd(e, \\varphi (N)) = 1$$\n",
        "$$1 < e <  \\varphi (N)$$\n",
        "\n",
        "En esta implementación del algoritmo RSA, se genera un número $e$ de manera aleatoria con el rango a continuación\n",
        "\n",
        "$$1 < 2^{tamanioLlave - 1} \\leq e \\leq 2^{tamanioLlave} - 1 < \\varphi (N)$$\n",
        "\n",
        "a posteriori, se evalúa si cumple\n",
        "\n",
        "$$mcd(e, \\varphi (N)) = 1$$\n",
        "\n",
        "Tal procedimiento se hace hasta cumplir la condición anterior. Esto es posible mediante la función $esCoprimo(\\varphi (N)), e)$, la cual retorna $True$ si $mcd(e, \\varphi (N)) = 1$."
      ]
    },
    {
      "cell_type": "code",
      "metadata": {
        "id": "8ys-_DTcWlAw",
        "colab_type": "code",
        "colab": {}
      },
      "source": [
        "def esCoprimo(p, q):\n",
        "\n",
        "    # Coprimo (o primos relativos) es que no tienen ningún divisor en \n",
        "    # común excepto el 1.\n",
        "    # Por tanto, se retorna True si mcd(p, q) es 1.\n",
        "\n",
        "    return mcd(p, q) == 1"
      ],
      "execution_count": null,
      "outputs": []
    },
    {
      "cell_type": "markdown",
      "metadata": {
        "id": "iDW_acs1WrJq",
        "colab_type": "text"
      },
      "source": [
        "La función $esCoprimo(\\varphi (N)), e)$ implementa a su vez el método $mcd(p, q)$. Para encontrar el MCD (Máximo Común Divisor), se usa el algorimo de Euclides."
      ]
    },
    {
      "cell_type": "markdown",
      "metadata": {
        "id": "HiEZOSXmhBmm",
        "colab_type": "text"
      },
      "source": [
        "#### **2.4.1. Algoritmo de Euclides**"
      ]
    },
    {
      "cell_type": "markdown",
      "metadata": {
        "id": "CC0D5GLwhRmk",
        "colab_type": "text"
      },
      "source": [
        "**Algoritmo:** Para cualquier entero $a, b, q, r$ con $a = b q + r$ ($q$ el cociente, y r ($0 \\leq r < b$) el residuo). Dadas dos entradas $a$ y $b$, se procede a escribir en la forma cociente y residuo\n",
        "\n",
        "$$a = bq + r, 0 \\leq r < b$$\n",
        "$$b = rq_1 + r_1, 0 \\leq r_1 < r$$\n",
        "$$r = r_1q_2 + r_2, 0 \\leq r_2 < r_1$$\n",
        "$$cdots$$\n",
        "\n",
        "continuar hasta que el residuo sea cero\n",
        "\n",
        "$$r_{i - 2} = r_{i - 1} q_i + r_i, 0 \\leq r_i < r_{i - 1}$$\n",
        "$$r_{i - 1} = r_i q_{i + 1} + 0$$\n",
        "\n",
        "así\n",
        "\n",
        "$$mcd(a, b) = r_i$$\n",
        "\n",
        "**Funcionamiento:** \n",
        "\n",
        "**Teorema 2.4.1.** Para cualquier entero $a, b, q, r$ con $a = b q + r$ ($q$ el cociente, y r ($0 \\leq r < b$) el residuo), entonces $mcd(a, b) = mcd(b, r)$. De esta manera, \n",
        "\n",
        "$$mcd(a, b) = mcd(b, r)$$\n",
        ".\n",
        "$$mcd(b, r) = mcd(r, r_1)$$\n",
        ".\n",
        "$$mcd(r, r_1) = mcd(r_1, r_2)$$\n",
        ".\n",
        "$$\\cdots$$\n",
        ".\n",
        "$$mcd(r_{i - 1}, r_i) = mcd(r_i, 0) = r_i$$\n",
        "\n",
        "**Demostración.** Para cualquier entero $a, b, q, r$ con $a = b q + r$ ($q$ el cociente, y r ($0 \\leq r < b$) el residuo). Sea $d$ un común divisor cualquier de $a$ y $b$.\n",
        "\n",
        "$$d | a, d | b \\rightarrow d | (a - bq) \\rightarrow d | r$$\n",
        "\n",
        "Sea $e$ un común divisor cualquiera de $b$ y $r$.\n",
        "\n",
        "$$e | b, e | r \\rightarrow e | (bq + r) \\rightarrow e | a$$\n",
        "\n",
        "Así, $d$ es un común divisor de $a$ y $b$ si y solo si $d$ es común diivisor de $b$ y $r$. Por tanto, $mcd(a, b) = mcd(b, r)$. $\\square$\n",
        "\n",
        "Siguiendo los planteamientos anteriores, se procede a realizar la respectiva implementación en código.\n"
      ]
    },
    {
      "cell_type": "code",
      "metadata": {
        "id": "exmS0VM2XJzN",
        "colab_type": "code",
        "colab": {}
      },
      "source": [
        "# Usamos algortimo de Euclides para encontrar Máx Común Divisor. \n",
        "def mcd(p, q):  \n",
        "    while q:\n",
        "        p, q = q, p % q\n",
        "    return p"
      ],
      "execution_count": null,
      "outputs": []
    },
    {
      "cell_type": "markdown",
      "metadata": {
        "id": "KwOuvJy3xcYG",
        "colab_type": "text"
      },
      "source": [
        "### **2.5. Seleciconar llave privada $d$, la cual es el inverso multiplicativo de $e$ módulo $\\varphi (N)$: $e \\cdot d \\equiv 1 \\pmod {\\varphi (N) }$**"
      ]
    },
    {
      "cell_type": "markdown",
      "metadata": {
        "id": "gETxaq89xmEu",
        "colab_type": "text"
      },
      "source": [
        "Esto se puede hallar mediante el algoritmo extendido de Euclides. Siendo éste un una ligera modificación del algoritmo de Euclides que permite además expresar al máximo común divisor como una combinación lineal. \n",
        "\n",
        "El proceso para hallar la llave privada $d$, la cual es el inverso multiplicativo de $e$ módulo $\\varphi (N)$: $e \\cdot d \\equiv 1 \\pmod {\\varphi (N) }$ se basa fundamentalmente en dos pasos:\n",
        "\n",
        "1. Aplicación del algoritmo extendido de Euclides para escribir un $mcd(a, b)$ como una combinación lineal de $a$ y $b$.\n",
        "\n",
        "2. Realizar sustitución en reversa con lo plantenado en el paso 1."
      ]
    },
    {
      "cell_type": "markdown",
      "metadata": {
        "id": "PFf9sl8bYrIm",
        "colab_type": "text"
      },
      "source": [
        "#### **2.5.1. Algoritmo extendido de Euclides**"
      ]
    },
    {
      "cell_type": "markdown",
      "metadata": {
        "id": "KW8gS8FpYyaV",
        "colab_type": "text"
      },
      "source": [
        "A pesar de que el algoritmo extendido de Euclides se vio en la video clase (27 mayo, 2020), se cree importante volver a repasar este tema. Por tanto, a continuación se cita el teorema y demostración desarrollados en clase (Referencia [9]).\n",
        "\n",
        "**Teorema 2.5.1.** Suponga $a$ y $b$ enteros, no ambos cero. Entonces hay enteros $m$ y $n$ tales que $(a,b) = ma + nb$.\n",
        "\n",
        "**Demostración.** El algoritmo de Euclides encuentra una secuencia de residuos $r_1, r_2, r_3, \\cdots$ hasta que uno de ellos es el MCD.\n",
        "\n",
        "Se puede probar por inducción que todos los $r_i$ son una combinación lineal de $a$ y $b$.\n",
        "\n",
        "Asumamos $a > b$, entonces $r_0 = a$ y $r_1 = b$. Luego $r_0$ y $r_1$ son combinaciones lineales de $a$ y $b$, lo cual representa el caso base. Los pasos siguientes del algoritmo euclidiano se define $r_{n + 2}$ de forma que $r_n = q r_{n + 1} + r_{n + 2}$. Así $r_{n + 2} = q r_{n} - q r_{n + 1}$ es una combinación lineal por hipótesis de inducción. $\\square$"
      ]
    },
    {
      "cell_type": "markdown",
      "metadata": {
        "id": "8-7np6UpfBDM",
        "colab_type": "text"
      },
      "source": [
        "#### **2.5.2. Inverso modular**"
      ]
    },
    {
      "cell_type": "markdown",
      "metadata": {
        "id": "n0bc9I4wfQsn",
        "colab_type": "text"
      },
      "source": [
        "Para encontrar el inverso modular $d$ se plantea lo siguiente\n",
        "\n",
        "$$e \\cdot d \\equiv 1 \\pmod {\\varphi (N) }$$\n",
        "\n",
        "lo cual, gracias al algortimo extendido de Euclides, se puede escribir como una compbinación lineal \n",
        "\n",
        "$$a x + by = 1$$\n",
        "$$\\varphi (N) x + e d = 1$$\n",
        "\n",
        "Para llegar a tal combinación lineal, se siguen los siguientes pasos\n",
        "\n",
        "1. Encontrar el MCD de $\\varphi (N)$ y $e$ usando el algoritmo de Euclides. Se tiene que llegar hasta un residuo de $1$, de lo contrario no habrá inversa. Se quiere escribir la anterior conbinación lineal de la siguiente forma\n",
        "\n",
        "$$a x + by = 1$$\n",
        "$$a = conciente (b) + residuo$$\n",
        "\n",
        "2. Expresar $1$ como la diferencia entre los multilpos de $\\varphi (N)$ y $e$ (algoritmo extendido de Euclides).\n",
        "\n",
        "3. Aplicar módulo $\\varphi (N)$ a ambos lados de la expresión hallado en paso $2$.\n",
        "\n",
        "**Ejemplo.** Encontrar $(197)^{-1} \\pmod {3000}$.\n",
        "\n",
        "Se tiende que resolver para d lo siguiente\n",
        "\n",
        "$$197 d \\equiv 1 \\pmod  {3000}$$\n",
        "\n",
        "1. Encontrar el MCD de $3000$ y $197$ usando el algoritmo de Euclides. Se tiene que llegar hasta un residuo de $1$, de lo contrario no habrá inversa.\n",
        "\n",
        "$$a x + by = 1$$\n",
        "$$3000 x + 197y = 1$$\n",
        "$$a = conciente (b) + residuo$$\n",
        "\n",
        "$$3000 = 15(197) + 45$$\n",
        "$$197 = 4(45) + 17$$\n",
        "$$45 = 2(17) + 11$$\n",
        "$$17 = 1(11) + 6$$\n",
        "$$11 = 1(6) + 5$$\n",
        "$$6 = 1(5) + 1$$\n",
        "\n",
        "2. Expresar $1$ como la diferencia entre los multilpos de $3000$ y $197$ (algoritmo extendido de Euclides).\n",
        "\n",
        "$$1 = 6 + 1(5)$$\n",
        "$$1 = 2(6) + 1(11)$$\n",
        "$$1 = 2(17) + 3(11)$$\n",
        "$$1 = 8(17) + 3(11)$$\n",
        "$$1 = 8(17) + 3(45)$$\n",
        "$$1 = 8(197) + 35(45)$$\n",
        "$$1 = 533(197) - 35(3000)$$\n",
        "\n",
        "3. Aplicar módulo $3000$ a ambos lados de la expresión hallado en paso $2$.\n",
        "\n",
        "$$1 = 533(197) - 35(3000)$$\n",
        "$$1 \\equiv 533(197) - 35(3000) \\pmod {3000}$$\n",
        "$$1 \\equiv 533(197) \\pmod {3000}$$\n",
        "\n",
        "Finalmente, $(197)^{-1} \\pmod {3000}$ es igual a $533$. $\\triangle$\n",
        "\n",
        "**Implementación.** Como se observa en el ejemplo anterior, en el paso $1$ se tiene \n",
        "\n",
        "$$a x + by = 1$$\n",
        "$$a = conciente (b) + residuo$$\n",
        " \n",
        "*   Cociente: ¿Cuántas veces está b en a?\n",
        "$$cociente = b//a$$ \n",
        "$//$: división parte entera (floor division).\n",
        "\n",
        "*   Residuo: \n",
        "$$residuoa = a - conciente (b)$$\n",
        "\n",
        "Ya que se hará una sustitución en reversa como la del paso $2$, entonces se necesitará una variable auxiliar inicializada así\n",
        "\n",
        "$$temp\\_a = a$$\n",
        "$$temp\\_b = b$$\n",
        "\n",
        "y en el siguiene ciclo será\n",
        "\n",
        "$$temp\\_a = b$$\n",
        "$$temp\\_b = residuo$$\n",
        "\n",
        "y así sucesivamente, mientras que $temp\\_b \\neq 0$\n",
        "\n",
        "Así\n",
        "\n",
        "*   Cociente: ¿Cuántas veces está b en a?\n",
        "$$cociente = temp\\_a // temp\\_b$$ \n",
        "$//$: división parte entera (floor division).\n",
        "\n",
        "*   Residuo: \n",
        "$$temp\\_b = residuo = temp\\_a - conciente (temp\\_b)$$\n",
        "\n",
        "Análogamente, se usa variables auxiliares para hallar\n",
        "\n",
        "$$a x + by = 1$$"
      ]
    },
    {
      "cell_type": "code",
      "metadata": {
        "id": "WjVNiAuhOQmE",
        "colab_type": "code",
        "colab": {}
      },
      "source": [
        "def euclidianmcd(a, b):\n",
        "    temp_y = 1; y = 0\n",
        "    temp_x = 0; x = 1\n",
        "    temp_a = a; temp_b = b\n",
        "\n",
        "    while temp_b != 0:   # parar antes que residuo sea cero \n",
        "        cociente = temp_a // temp_b\n",
        "        temp_a, temp_b = temp_b, temp_a - cociente * temp_b        \n",
        "        # sustitución en reversa para ax + by = 1\n",
        "        temp_y, y = y, temp_y - cociente * y\n",
        "        temp_x, x = x, temp_x - cociente * x\n",
        "\n",
        "    # temp_a será 1, pues cuando temp_b = 0 termina loop, y temp_a quedó con 1\n",
        "    print(f\"\\ntemp_a = {temp_a}\")\n",
        "    print(f\"temp_y = {temp_y}\")\n",
        "    print(f\"temp_x = {temp_x}\")        \n",
        "    # phiN * temp_x + e * temp_y = 1     \n",
        "\n",
        "    # retorna máx_común_divisor, y (el que acompaña e), x\n",
        "    return temp_a, temp_x, temp_y\n",
        "\n",
        "# Se calcula inverso modular, modularInv(e, phiN)\n",
        "def modularInv(a, b):\n",
        "    mcd, x, y = euclidianmcd(a, b)\n",
        "\n",
        "    print(f\"phiN * temp_x + e * temp_y = {b * x + a * y}\" )\n",
        "\n",
        "    while y < 0:    # si sale negativo sumar phiN \n",
        "        y += b\n",
        "\n",
        "    return y"
      ],
      "execution_count": null,
      "outputs": []
    },
    {
      "cell_type": "markdown",
      "metadata": {
        "id": "VkGOmE3oQFgo",
        "colab_type": "text"
      },
      "source": [
        "### **2.6. Encriptar un mensaje $M$ enviado de $A$ a $B$ confidencialmente**"
      ]
    },
    {
      "cell_type": "markdown",
      "metadata": {
        "id": "iZlfbVdDQEjw",
        "colab_type": "text"
      },
      "source": [
        "Luego, para proceder a encriptar un mensaje $M$ enviado de $A$ a $B$ confidencialmente:\n",
        "\n",
        "1. $A$ debe conocer la pareja de números $KP_B = (e_B, N_B)$ del receptor $B$.\n",
        "2. Expresa el mensaje como un entero. Por ejemplo si el mensaje es \"Hi\", lo traduce usando _ASCII Code_: “H” 072 e \"i\" 105. Con $M < N$.\n",
        "3. Encripta el mensaje mediante la expresión: $C \\equiv M^{e_B} \\pmod {N_B}$.\n",
        "4. Envía criptomensaje $C$.\n",
        "\n",
        "Finalmente, para desencriptar el criptomensaje $C$ recibido por $B$:\n",
        "\n",
        "1. $B$ mediante $kp_B = (d_B, N_B)$ (siendo $d_B$ su clave privada) desencripta mediante la expresión: $M \\equiv C^{d_B} \\pmod {N_B}$.\n",
        "2. Obtiene el mensaje original expresado en su forma entera.\n",
        "\n",
        "Por último cabe mencionar, según Referencia [2] página 16, que: \"La función para cifrar es $f_A(M) = M^{e_A} \\pmod {N_A}$, mientras la función para descifrar es $f_A^{-1} (C) = C^{d_A} \\pmod {N_A}$. El Teorema de Euler garantiza que estas funciones son inversa una de la otra\"."
      ]
    },
    {
      "cell_type": "markdown",
      "metadata": {
        "id": "b8viNDaa7dUx",
        "colab_type": "text"
      },
      "source": [
        "#### **2.6.1. Teorema de Euler**"
      ]
    },
    {
      "cell_type": "markdown",
      "metadata": {
        "id": "YXSVphVi7l3Y",
        "colab_type": "text"
      },
      "source": [
        "**Teorema.** Si $a$ y $n$ son enteros primos relativos, entonces $a^{\\varphi(n)} \\equiv 1 \\pmod n$.\n",
        "\n",
        "**Demostración.** Del pequeño teorema de Fermat (visto anteriormente) se tiene $$a^{n - 1} \\equiv 1 \\pmod n$$ Pero necesitamos $$a^{\\varphi(n)} \\equiv 1 \\pmod n$$ En el caso que $N$ sea primo $$\\varphi (n) = n - 1$$ Reemplazando en el pequeño teorema de Fermat queda demostrado. $\\square$\n",
        "\n"
      ]
    },
    {
      "cell_type": "markdown",
      "metadata": {
        "id": "QJPJsdHaBL2P",
        "colab_type": "text"
      },
      "source": [
        "#### **2.6.2. Prueba que función de cifrar y decifrar son inversas una de la otra**"
      ]
    },
    {
      "cell_type": "markdown",
      "metadata": {
        "id": "5cL-ki6fBpXW",
        "colab_type": "text"
      },
      "source": [
        "Citando la Referencia [10].\n",
        "\n",
        "Recordemos que $C \\equiv M^e \\pmod N$, por lo tanto:\n",
        "\n",
        "$$M \\equiv C^d \\pmod N \\equiv (M^e \\pmod N)^d \\pmod d$$\n",
        "\n",
        "De aquí obtenemos lo siguiente:\n",
        "\n",
        "$$M \\equiv M^{ed} \\pmod N$$\n",
        "\n",
        "Al obtener las claves, podemos recordar que $ed \\equiv 1 \\pmod {\\varphi (N)}$, es decir que $ed = 1 + \\varphi (N) \\cdot k$, donde $k$ es un entero que no conocemos. Es decir que:\n",
        "\n",
        "$$M \\equiv M^{1 + \\varphi (N) \\cdot k} \\pmod N \\equiv M \\cdot M^{\\varphi(N) \\cdot k} \\pmod N$$\n",
        "\n",
        "Y ahora es donde usamos el _Teorema de Euler_. Recordemos que el teorema de Euler dice que $$a^{\\varphi(n)} \\equiv 1 \\pmod n$$ Es decir que:\n",
        "\n",
        "$$M \\equiv M \\cdot 1^k \\pmod N \\equiv M \\pmod N$$\n",
        "\n",
        "Por lo tanto, si $M < N$, entonces $M \\equiv M \\pmod N$ partiendo de $M \\equiv C^d \\pmod N$. Y así es como funciona el algoritmo RSA. $\\square$"
      ]
    },
    {
      "cell_type": "code",
      "metadata": {
        "id": "PMHQsLiuUqJL",
        "colab_type": "code",
        "colab": {}
      },
      "source": [
        "def encriptar(e, N, mensaje):\n",
        "    cifrado = \"\"\n",
        "\n",
        "    for caract in mensaje:\n",
        "        m = ord(caract)                # retorna Unicode de un carácter\n",
        "        cifrado += str(pow(m, e, N)) + \" \"\n",
        "    \n",
        "    return cifrado\n",
        "\n",
        "def desencriptar(d, N, cifrado):\n",
        "    mensaje = \"\"\n",
        "\n",
        "    # separa palabra, ejemplo\n",
        "    # mensaje = \"1644846123814695709 14314386517434334297 12410740933298758514\"\n",
        "    # ['1644846123814695709', '14314386517434334297', '12410740933298758514']\n",
        "    listado = cifrado.split()     \n",
        "    for item in listado:\n",
        "        if item:\n",
        "            c = int(item)\n",
        "            mensaje += chr(pow(c, d, N))\n",
        "    \n",
        "    return mensaje"
      ],
      "execution_count": null,
      "outputs": []
    },
    {
      "cell_type": "markdown",
      "metadata": {
        "id": "z5wZKNUokMpW",
        "colab_type": "text"
      },
      "source": [
        "## **3. Ejemplo del algoritmo**"
      ]
    },
    {
      "cell_type": "markdown",
      "metadata": {
        "id": "oCTkIjwgi4_F",
        "colab_type": "text"
      },
      "source": [
        "**Ejemplo numérico sencillo que aclara el funcionamiento del algoritmo.**\n",
        "\n",
        "**Ejemplo.** \n",
        "\n",
        "Elon Musk quiere enviar un mensaje cifrado a Grimes.\n",
        "\n",
        "1. Primero seleccionar dos números primos $p$ y $q$.\n",
        "$$p = 11$$\n",
        "$$q = 5$$\n",
        "Calcular el módulo RSA.\n",
        "$$N = 55$$\n",
        "\n",
        "2. Calcular función totient de Euler.\n",
        "$$\\varphi (N) = (11 - 1)(5 - 1)$$\n",
        "$$\\varphi (N) = 40$$\n",
        "\n",
        "3. Seleccionar llave pública $e$ ($1 < e < \\varphi (N)$), la cual es coprimo de $\\varphi (N)$.\n",
        "Entre las opciones tenemos: $3, 7, 9, 11, 13, 27, \\cdots$. Se seleccionará\n",
        "$$e = 7$$\n",
        "\n",
        "4. Calcular $d$ cumpliendo: $d e \\equiv 1 \\pmod {\\varphi (N)}$.\n",
        "$$d (7) \\equiv 1 \\pmod {\\varphi (40)}$$\n",
        "Algoritmo de Euclides:\n",
        "$$40 = 5 (7) + 5$$\n",
        "$$7 = 1 (5) + 2$$\n",
        "$$5 = 2 (2) + 1$$\n",
        "Algoritmo extendido de Euclides:\n",
        "$$1 = 5 - 2 (2)$$\n",
        "$$1 = 5 - 2 (7 - 1 (5))$$\n",
        "$$1 = 5 - 2 (7) + 2 (5)$$\n",
        "$$1 = 3 (5) - 2 (7)$$\n",
        "$$1 = 3 (40 - 5 (7)) - 2 (7)$$\n",
        "$$1 = 3 (40) - 15 (7) - 2 (7)$$\n",
        "$$1 = 3 (40) - 17 (7)$$\n",
        "El número que buscamos se encuentra acompañando el número $e = 7$. Si el número es positivo, se toma como $d$. Pero si es negativo se calcula\n",
        "$$d = -17 \\pmod {40}$$\n",
        "$$d = 23 \\pmod {40}$$\n",
        "Entonces $d = 23$.\n",
        "\n",
        "Resumiendo se tiene en dominio privado\n",
        "$$p = 11$$\n",
        "$$q = 5$$\n",
        "$$\\varphi (N)= 40$$\n",
        "\n",
        "y en dominio público\n",
        "$$d = 23$$\n",
        "$$N = 55$$\n",
        "$$e = 7$$\n",
        "\n",
        "Elon puede usar $N$ y $e$ para cifrar un mensaje para Grimes. Grimes puede decifrar tal mensaje, pues ella tiene su llave privada $d$ y el módulo RSA $N$.\n",
        "\n",
        "Elon quiere cifrar el mensaje \"HI\" a Grimes, pues es algo tímido.\n",
        "\n",
        "Para cifrar se usa la ecuación\n",
        "\n",
        "$$C \\equiv M^e \\pmod N$$\n",
        "\n",
        "La representación numérica de H es $M = 7$\n",
        "\n",
        "$$C \\equiv 7^7 \\pmod 55$$\n",
        "$$C \\equiv 28 \\pmod 55$$\n",
        "\n",
        "La representación numérica de I es $M = 8$\n",
        "\n",
        "$$C \\equiv 8^7 \\pmod 55$$\n",
        "$$C \\equiv 2 \\pmod 55$$\n",
        "\n",
        "Mensaje cifrado: {$28$, $2$}\n",
        "\n",
        "Grimes para decifrar el mensaje cifrado usa la siguiente ecuación\n",
        "\n",
        "$$M \\equiv C^d \\pmod N$$\n",
        "\n",
        "luego\n",
        "\n",
        "$$M \\equiv 28^{23} \\pmod {55}$$\n",
        "$$M \\equiv 7 \\pmod {55}$$\n",
        "$$7 = H$$\n",
        "\n",
        "finalmente\n",
        "\n",
        "$$M \\equiv 2^{23} \\pmod {55}$$\n",
        "$$M \\equiv 8 \\pmod {55}$$\n",
        "$$8 = I$$\n",
        "\n",
        "Así, Grimes observa el mensaje \"HI\" enviado por Elon Musk!\n"
      ]
    },
    {
      "cell_type": "markdown",
      "metadata": {
        "id": "yxJNtcMdYoe7",
        "colab_type": "text"
      },
      "source": [
        "## **4. Implementación del algoritmo**"
      ]
    },
    {
      "cell_type": "markdown",
      "metadata": {
        "id": "BwmkLv8FkZGm",
        "colab_type": "text"
      },
      "source": [
        "**El algoritmo se implementa en lenguaje pyhton. La sección de implementación incluye un conjunto de ejemplos del uso del algoritmo.**\n",
        "\n",
        "El programa posee cuatro modos de uso: \n",
        "1. Modo completo.\n",
        "2. Generador de llaves.\n",
        "3. Cifrar.\n",
        "4. Decifrar."
      ]
    },
    {
      "cell_type": "markdown",
      "metadata": {
        "id": "W-D5rg_jarSn",
        "colab_type": "text"
      },
      "source": [
        "### **4.1. Modo completo**"
      ]
    },
    {
      "cell_type": "markdown",
      "metadata": {
        "id": "lCzEZN3La0o8",
        "colab_type": "text"
      },
      "source": [
        "El usuario digita las palabras, números, entre otros caracteres, que desee encriptar. Luego se retorna la llave pública, la llave privada y número $N$ para cifrar y descifrar. Además, se muestra cómo quedaría el mensaje cifrado, los números primos usados $p$ y $q$, y finalemte el mensaje descifrado verificando la validez del criptosistema RSA. \n",
        "\n",
        "A continuación se muestra un conjunto de ejemplos del uso del algoritmo."
      ]
    },
    {
      "cell_type": "markdown",
      "metadata": {
        "id": "irB9xowzazBr",
        "colab_type": "text"
      },
      "source": [
        "**Ejemplo 1.**\n",
        "\n",
        "\\######################### \n",
        "\n",
        "\\# # # # # # # # # # # # # \n",
        "\n",
        "\n",
        "¿Qué desea encriptar?: \n",
        "\n",
        "MIT \n",
        "\n",
        "p: 2909205193 \n",
        "\n",
        "q: 3441974933\n",
        "\n",
        "phi: 10013411342908246944 \n",
        "\n",
        "\n",
        "Mensaje: MIT \n",
        "\n",
        "e (llave pública): 2642236709 \n",
        "\n",
        "d (llave privada): 8186851215819648653 \n",
        "\n",
        "N (p * q): 10013411349259427069 \n",
        "\n",
        "enc (Mensaje encriptado): 4795246290904660907 7457075432374927019  669529336837569229 \n",
        "\n",
        "dec (Mensaje desencriptado): MIT \n",
        "\n",
        "\n",
        "\\# # # # # # # # # # # # # \n",
        "\n",
        "\\######################### "
      ]
    },
    {
      "cell_type": "markdown",
      "metadata": {
        "id": "unBAG-Klcxs9",
        "colab_type": "text"
      },
      "source": [
        "**Ejemplo 2.**\n",
        "\n",
        "\\# # # # # # # # # # # # # \n",
        "\n",
        "\\######################### \n",
        "\n",
        "\n",
        "¿Qué desea encriptar?: \n",
        "\n",
        "UNAL \n",
        "\n",
        "\n",
        "p: 3651601769 \n",
        "\n",
        "q: 3908214559 \n",
        "\n",
        "phi: 14271243189716138544 \n",
        "\n",
        "\n",
        "Mensaje: UNAL \n",
        "\n",
        "e (llave pública): 3784734151 \n",
        "\n",
        "d (llave privada): 598169384771869111 \n",
        "\n",
        "N (p * q): 14271243197275954871 \n",
        "\n",
        "enc (Mensaje encriptado): 3191760489785707402 11556504764386718791 11514574540389277008 2121949824439065019 \n",
        "\n",
        "dec (Mensaje desencriptado): UNAL \n",
        "\n",
        "\n",
        "\\# # # # # # # # # # # # # \n",
        "\n",
        "\\######################### "
      ]
    },
    {
      "cell_type": "markdown",
      "metadata": {
        "id": "p9NGAztAcvYD",
        "colab_type": "text"
      },
      "source": [
        "**Ejemplo 3.**\n",
        "\n",
        "\\######################### \n",
        "\n",
        "\\# # # # # # # # # # # # # \n",
        "\n",
        "\n",
        "¿Qué desea encriptar?: \n",
        "\n",
        "Harvard \n",
        "\n",
        "\n",
        "p: 3551732389 \n",
        "\n",
        "q: 4292735519 \n",
        "\n",
        "phi: 15246647772398556984 \n",
        "\n",
        "\n",
        "Mensaje: Harvard \n",
        "\n",
        "e (llave pública): 4241180563 \n",
        "\n",
        "d (llave privada): 9177112159654240507 \n",
        "\n",
        "N (p * q): 15246647780243024891 \n",
        "\n",
        "enc (Mensaje encriptado): 35957171282845910 9028316689098301474 249474654174037011 13297468749503535978 9028316689098301474 249474654174037011 8755058794223703214 \n",
        "\n",
        "dec (Mensaje desencriptado): Harvard \n",
        "\n",
        "\n",
        "\\######################### \n",
        "\n",
        "\\# # # # # # # # # # # # # "
      ]
    },
    {
      "cell_type": "markdown",
      "metadata": {
        "id": "1-H5BADgMKJA",
        "colab_type": "text"
      },
      "source": [
        "### **4.2. Modo generador de llaves**"
      ]
    },
    {
      "cell_type": "markdown",
      "metadata": {
        "id": "Zc3tajenMeXy",
        "colab_type": "text"
      },
      "source": [
        "El usuario al seleccionar esta opción, el programa le proporciona su conjunto de llaves. El mismo algoritmo es capaz de generar primos aleatorios relativamente grandes, para luego generar las correspondientes llaves.\n",
        "\n",
        "A continuación se muestra un conjunto de ejemplos del uso del algoritmo."
      ]
    },
    {
      "cell_type": "markdown",
      "metadata": {
        "id": "uRP74TPqM_0I",
        "colab_type": "text"
      },
      "source": [
        "**Ejemplo 4.**\n",
        "\n",
        "\\######################### \n",
        "\n",
        "\\# # # # # # # # # # # # # \n",
        "\n",
        "\n",
        "p: 2801188657 \n",
        "\n",
        "q: 2601066263 \n",
        "\n",
        "phi: 7286077306618723872 \n",
        "\n",
        "\n",
        "e (llave pública): 4250737997 \n",
        "\n",
        "d (llave privada): 5322078802993098437 \n",
        "\n",
        "N (p * q): 7286077312020978791 \n",
        "\n",
        "\n",
        "\\######################### \n",
        "\n",
        "\\# # # # # # # # # # # # # "
      ]
    },
    {
      "cell_type": "markdown",
      "metadata": {
        "id": "OmaHnMWWNSun",
        "colab_type": "text"
      },
      "source": [
        "### **4.3. Modo cifrar**"
      ]
    },
    {
      "cell_type": "markdown",
      "metadata": {
        "id": "EiZqrs1dOT0R",
        "colab_type": "text"
      },
      "source": [
        "El usuario al seleccionar esta opción, debe proporcionar el mensaje que desea cifrar, la llave pública del destinatario y el valor N del destinatario. El programa proporcionará el mensaje debidamente cifrado para un evío seguro.\n",
        "\n",
        "A continuación se muestra un conjunto de ejemplos del uso del algoritmo."
      ]
    },
    {
      "cell_type": "markdown",
      "metadata": {
        "id": "A8hZ5UKgN3Mp",
        "colab_type": "text"
      },
      "source": [
        "**Ejemplo 5.**\n",
        "\n",
        "\\######################### \n",
        "\n",
        "\\# # # # # # # # # # # # # \n",
        "\n",
        "\n",
        "¿Qué desea encriptar?: \n",
        "\n",
        "MIT \n",
        "\n",
        "\n",
        "Ingrese la llave pública del destinatario: \n",
        "\n",
        "4250737997 \n",
        "\n",
        "\n",
        "Ingrese valor N del destinatario: \n",
        "\n",
        "7286077312020978791 \n",
        "\n",
        "\n",
        "Mensaje: MIT \n",
        "\n",
        "enc (Mensaje encriptado): 3736232905220398341 609314720378930080 3682175217172546185 \n",
        "\n",
        "\n",
        "\\######################### \n",
        "\n",
        "\\# # # # # # # # # # # # # "
      ]
    },
    {
      "cell_type": "markdown",
      "metadata": {
        "id": "Uo54yaPkO5Gj",
        "colab_type": "text"
      },
      "source": [
        "### **4.4. Modo decifrar**"
      ]
    },
    {
      "cell_type": "markdown",
      "metadata": {
        "id": "v08mOPLmPEmL",
        "colab_type": "text"
      },
      "source": [
        "El usuario al seleccionar esta opción, debe proporcionar el mensaje cifrado que desea decifrar, su llave privada y su valor N. El programa proporcionará el mensaje debidamente decifrado.\n",
        "\n",
        "A continuación se muestra un conjunto de ejemplos del uso del algoritmo."
      ]
    },
    {
      "cell_type": "markdown",
      "metadata": {
        "id": "siAZt6WiP8VK",
        "colab_type": "text"
      },
      "source": [
        "**Ejemplo 6.**\n",
        "\n",
        "\\######################### \n",
        "\n",
        "\\# # # # # # # # # # # # # \n",
        "\n",
        "\n",
        "¿Qué desea desencriptar?: \n",
        "\n",
        "3736232905220398341 609314720378930080 3682175217172546185 \n",
        "\n",
        "\n",
        "Ingrese su llave privada: \n",
        "\n",
        "5322078802993098437 \n",
        "\n",
        "\n",
        "Ingrese su valor N: \n",
        "\n",
        "7286077312020978791 \n",
        "\n",
        "\n",
        "dec (Mensaje desencriptado): MIT \n",
        "\n",
        "\n",
        "\\######################### \n",
        "\n",
        "\\# # # # # # # # # # # # # "
      ]
    },
    {
      "cell_type": "code",
      "metadata": {
        "id": "aH0cr5T-Yqij",
        "colab_type": "code",
        "colab": {
          "base_uri": "https://localhost:8080/",
          "height": 765
        },
        "outputId": "be52a271-18b2-4b67-a781-933bec6362fa"
      },
      "source": [
        "import random\n",
        "\n",
        "# Test de primalidad de Miller Rabin (https://www.geeksforgeeks.org/primality-test-set-3-miller-rabin/, 2020)\n",
        "# Probar que no es primo mediante test de primalidad de Miller Rabin.\n",
        "# Tal test es un método probabilístico, pero es generalmente preferido\n",
        "# sobre el test de primalidad mediante método de Fermat.\n",
        "# Devuelve falso si n es compuesto y devuelve verdadero si n \n",
        "# es probablemente primo. k es un parámetro de entrada que determina \n",
        "# nivel de precisión. Un valor más alto de k indica más precisión.    \n",
        "def testPrimalidadRabin(n, d):\n",
        "    a = random.randint(2, (n - 2))\n",
        "    # a^c % n\n",
        "    x = pow(a, int(d), n)\n",
        "    if x == 1 or x == n - 1:\n",
        "        return True\n",
        "\n",
        "    # x^2 % n\n",
        "    while d != n - 1:\n",
        "        x = pow(x, 2, n)\n",
        "        d *= 2\n",
        "\n",
        "        if x == 1:\n",
        "            return False\n",
        "        elif x == n - 1:\n",
        "            return True\n",
        "\n",
        "    # es no primo\n",
        "    return False\n",
        "\n",
        "def esPrimo(n):\n",
        "\n",
        "    #Retorna True si n es primo\n",
        "    #y se recurre al test de primalidada de Miller Rabin para tener más certeza\n",
        "    \n",
        "\n",
        "    # 1. El 0 y el 1 son números especiales que no se consideran primos ni compuestos.\n",
        "    if n < 2:\n",
        "        return False\n",
        "\n",
        "    # 2. Arreglo de primos pequeños en memoria (https://pastebin.com/2yGpCpJr, 2020)\n",
        "    primosPequenios = [2, 3, 5, 7, 11, 13, 17, 19, 23, 29, 31, 37, 41, 43, 47, 53, 59, 61, 67, 71, 73, 79, 83, 89, 97, 101, 103, 107, 109, 113, 127, 131, 137, 139, 149, 151, 157, 163, 167, 173, 179, 181, 191, 193, 197, 199, 211, 223, 227, 229, 233, 239, 241, 251, 257, 263, 269, 271, 277, 281, 283, 293, 307, 311, 313, 317, 331, 337, 347, 349, 353, 359, 367, 373, 379, 383, 389, 397, 401, 409, 419, 421, 431, 433, 439, 443, 449, 457, 461, 463, 467, 479, 487, 491, 499, 503, 509, 521, 523, 541, 547, 557, 563, 569, 571, 577, 587, 593, 599, 601, 607, 613, 617, 619, 631, 641, 643, 647, 653, 659, 661, 673, 677, 683, 691, 701, 709, 719, 727, 733, 739, 743, 751, 757, 761, 769, 773, 787, 797, 809, 811, 821, 823, 827, 829, 839, 853, 857, 859, 863, 877, 881, 883, 887, 907, 911, 919, 929, 937, 941, 947, 953, 967, 971, 977, 983, 991, 997]\n",
        "\n",
        "    # si n está en arreglo primosPequenios\n",
        "    if n in primosPequenios:\n",
        "        return True\n",
        "\n",
        "    # 3. Si n es divisible por primos pequeños\n",
        "    for primo in primosPequenios:\n",
        "        if n % primo == 0:\n",
        "            return False\n",
        "\n",
        "    # 3. Encontrar un número c tal que c * 2 ^ r = n - 1. \n",
        "    c = n - 1   # c es par porque n no es divisible por 2\n",
        "    while c % 2 == 0: \n",
        "        c //= 2  # hace c impar\n",
        "\n",
        "    # Probar que no es primo mediante test de primalidad de Miller Rabin\n",
        "    # Tal test es un método probabilístico, pero es generalmente preferido\n",
        "    # sobre el test de primalidad mediante método de Fermat\n",
        "    # Devuelve falso si n es compuesto y devuelve verdadero si n \n",
        "    # es probablemente primo. k es un parámetro de entrada que determina \n",
        "    # nivel de precisión. Un valor más alto de k indica más precisión.    \n",
        "    for i in range(128):\n",
        "        if not testPrimalidadRabin(n, c):\n",
        "            return False\n",
        "    \n",
        "    return True\n",
        "\n",
        "def generarLlaves(tamanioLlave): \n",
        "    e = d = N = 0   # e : llave pública; d : llave privada; N: p * q\n",
        "\n",
        "    while True:\n",
        "        # vamos a obtener números primos p y q distintos entre sí\n",
        "        p = generarPrimos(tamanioLlave)\n",
        "        q = generarPrimos(tamanioLlave)\n",
        "        if p != q:\n",
        "            break # termina loop\n",
        "\n",
        "    print(f\"\\np: {p}\")\n",
        "    print(f\"q: {q}\")\n",
        "\n",
        "    N = p * q\n",
        "    phiN = (p - 1) * (q - 1)    #función totient\n",
        "\n",
        "    print(f\"phi: {phiN}\")\n",
        "\n",
        "    # elegimos e, el cual es coprimo con phiN \n",
        "    # 1 < e < phiN\n",
        "    while True:\n",
        "        e = random.randrange(2 ** (tamanioLlave - 1), 2 ** tamanioLlave - 1)\n",
        "        if (esCoprimo(phiN, e)):\n",
        "            break   # termina loop\n",
        "\n",
        "    # elegimos d, el cual es el inverso multiplicativo modular de e\n",
        "    # modulo phiN\n",
        "    # e * d (mod phiN) = 1\n",
        "\n",
        "    d = modularInv(e, phiN)\n",
        "\n",
        "    return e, d, N\n",
        "\n",
        "def generarPrimos(tamanioLlave):\n",
        "    \n",
        "    # tamanioLlave es el rango de bits que\n",
        "    # tendrá el primo generado aleatoriamente\n",
        "\n",
        "    while True:\n",
        "        num = random.randrange(2 ** (tamanioLlave - 1), 2 ** tamanioLlave - 1)\n",
        "        if(esPrimo(num)):\n",
        "            return num\n",
        "\n",
        "\n",
        "def esCoprimo(p, q):\n",
        "\n",
        "    # Coprimo (o primos relativos) es que no tienen ningún divisor en \n",
        "    # común excepto el 1.\n",
        "    # Por tanto, se retorna True si mcd(p, q) es 1.\n",
        "\n",
        "\n",
        "    return mcd(p, q) == 1\n",
        "\n",
        "# Usamos algortimo de Euclides para encontrar Máx Común Divisor. \n",
        "def mcd(p, q):  \n",
        "    while q:\n",
        "        p, q = q, p % q\n",
        "    return p\n",
        "\n",
        "def euclidianmcd(a, b):\n",
        "    temp_y = 1; y = 0\n",
        "    temp_x = 0; x = 1\n",
        "    temp_a = a; temp_b = b\n",
        "\n",
        "    while temp_b != 0:   # parar antes que residuo sea cero \n",
        "        cociente = temp_a // temp_b\n",
        "        temp_a, temp_b = temp_b, temp_a - cociente * temp_b        \n",
        "        # sustitución en reversa para ax + by = 1\n",
        "        temp_y, y = y, temp_y - cociente * y\n",
        "        temp_x, x = x, temp_x - cociente * x\n",
        "\n",
        "    # temp_a será 1, pues cuando temp_b = 0 termina loop, y temp_a quedó con 1\n",
        "    # print(f\"\\ntemp_a = {temp_a}\")\n",
        "    # print(f\"temp_y = {temp_y}\")\n",
        "    # print(f\"temp_x = {temp_x}\")        \n",
        "    # phiN * temp_x + e * temp_y = 1     \n",
        "\n",
        "    # retorna máx_común_divisor, y (el que acompaña e), x\n",
        "    return temp_a, temp_x, temp_y\n",
        "\n",
        "# Se calcula inverso modular, modularInv(e, phiN)\n",
        "def modularInv(a, b):\n",
        "    mcd, x, y = euclidianmcd(a, b)\n",
        "\n",
        "    # print(f\"phiN * temp_x + e * temp_y = {b * x + a * y}\" )\n",
        "\n",
        "    while y < 0:    # si sale negativo sumar phiN \n",
        "        y += b\n",
        "\n",
        "    return y\n",
        "\n",
        "def encriptar(e, N, mensaje):\n",
        "    cifrado = \"\"\n",
        "\n",
        "    for caract in mensaje:\n",
        "        m = ord(caract)                # retorna Unicode de un carácter\n",
        "        cifrado += str(pow(m, e, N)) + \" \"\n",
        "    \n",
        "    return cifrado\n",
        "\n",
        "def desencriptar(d, N, cifrado):\n",
        "    mensaje = \"\"\n",
        "\n",
        "    # separa palabra, ejemplo\n",
        "    # mensaje = \"M I T\"\n",
        "    # ['M', 'I', 'T']\n",
        "    # mensaje = \"1644846123814695709 14314386517434334297 12410740933298758514\"\n",
        "    # ['1644846123814695709', '14314386517434334297', '12410740933298758514']\n",
        "    listado = cifrado.split()     \n",
        "    for item in listado:\n",
        "        if item:\n",
        "            c = int(item)\n",
        "            mensaje += chr(pow(c, d, N))\n",
        "    \n",
        "    return mensaje\n",
        "\n",
        "def modoCompleto():\n",
        "    while True:\n",
        "        try:             \n",
        "            print(\"\\n#########################\")\n",
        "            print(\"# # # # # # # # # # # # #\")\n",
        "\n",
        "            print(\"\\n¿Qué desea encriptar?: \")\n",
        "            mensaje = input()\n",
        "\n",
        "            tamanioLlave = 32\n",
        "\n",
        "            e, d, N  = generarLlaves(tamanioLlave)\n",
        "            \n",
        "            # mensaje = \"Welcome to RSA! :)\"\n",
        "\n",
        "            enc = encriptar(e, N, mensaje)\n",
        "            dec = desencriptar(d, N, enc)\n",
        "\n",
        "            # Ejemplo 1:\n",
        "            # dec = desencriptar(d, N, cifrado)\n",
        "            # dec = desencriptar(5002216248818463721, 18230775041547471331, \"1644846123814695709 14314386517434334297 12410740933298758514\")\n",
        "\n",
        "            print(f\"\\nMensaje: {mensaje}\")\n",
        "            print(f\"e (llave pública): {e}\")\n",
        "            print(f\"d (llave privada): {d}\")\n",
        "            print(f\"N (p * q, módulo RSA): {N}\")\n",
        "            print(f\"enc (Mensaje encriptado): {enc}\")\n",
        "            print(f\"dec (Mensaje desencriptado): {dec}\")\n",
        "\n",
        "            print(\"\\n# # # # # # # # # # # # #\")\n",
        "            print(\"#########################\")\n",
        "            break\n",
        "        except (RuntimeError, TypeError, NameError, ValueError, OverflowError):\n",
        "            print(\"\\nDatos incorrectos...\")            \n",
        "\n",
        "def genLlaves():\n",
        "    while True:\n",
        "        try:    \n",
        "            print(\"\\n#########################\")\n",
        "            print(\"# # # # # # # # # # # # #\")\n",
        "\n",
        "            tamanioLlave = 32\n",
        "\n",
        "            e, d, N  = generarLlaves(tamanioLlave)\n",
        "\n",
        "            print(f\"\\ne (llave pública): {e}\")\n",
        "            print(f\"d (llave privada): {d}\")\n",
        "            print(f\"N (p * q, módulo RSA): {N}\")\n",
        "\n",
        "            print(\"\\n# # # # # # # # # # # # #\")\n",
        "            print(\"#########################\")    \n",
        "            break\n",
        "        except (RuntimeError, TypeError, NameError, ValueError, OverflowError):\n",
        "            print(\"\\nDatos incorrectos...\")            \n",
        "\n",
        "def cifrar():\n",
        "    while True:\n",
        "        try:    \n",
        "            print(\"\\n#########################\")\n",
        "            print(\"# # # # # # # # # # # # #\")\n",
        "\n",
        "            print(\"\\n¿Qué desea encriptar?: \")\n",
        "            mensaje = input()\n",
        "\n",
        "            print(\"\\nIngrese la llave pública del destinatario: \")\n",
        "            e = input()\n",
        "\n",
        "            print(\"\\nIngrese valor N (módulo RSA) del destinatario: \")\n",
        "            N = input()\n",
        "\n",
        "            enc = encriptar(int(e), int(N), mensaje)\n",
        "\n",
        "            print(f\"\\nMensaje: {mensaje}\")\n",
        "            print(f\"enc (Mensaje encriptado): {enc}\")\n",
        "\n",
        "            print(\"\\n# # # # # # # # # # # # #\")\n",
        "            print(\"#########################\")\n",
        "            break\n",
        "        except (RuntimeError, TypeError, NameError, ValueError, OverflowError):\n",
        "            print(\"\\nDatos incorrectos...\")\n",
        "\n",
        "def decifrar():\n",
        "    while True:\n",
        "        try:\n",
        "            print(\"\\n#########################\")\n",
        "            print(\"# # # # # # # # # # # # #\")\n",
        "\n",
        "            print(\"\\n¿Qué desea desencriptar?: \")\n",
        "            enc = input()\n",
        "\n",
        "            print(\"\\nIngrese su llave privada: \")\n",
        "            d = input()\n",
        "\n",
        "            print(\"\\nIngrese su valor N (módulo RSA): \")\n",
        "            N = input()\n",
        "\n",
        "            dec = desencriptar(int(d), int(N), enc)\n",
        "\n",
        "            print(f\"\\ndec (Mensaje desencriptado): {dec}\")\n",
        "\n",
        "            print(\"\\n# # # # # # # # # # # # #\")\n",
        "            print(\"#########################\")\n",
        "            break\n",
        "        except (RuntimeError, TypeError, NameError, ValueError, OverflowError):\n",
        "            print(\"\\nDatos incorrectos...\")\n",
        "\n",
        "def main():\n",
        "    while True:\n",
        "        print(\"\\nxXX Bienvenido al criptosistema RSA XXx\")\n",
        "        print(\"\\nPor favor seleecione el modo: \")    \n",
        "        print(\"\\t0. Salir\")\n",
        "        print(\"\\t1. Modo completo\")\n",
        "        print(\"\\t2. Generador de llaves\")\n",
        "        print(\"\\t3. Cifrar\")\n",
        "        print(\"\\t4. Decifrar\")\n",
        "        \n",
        "        modo = input()\n",
        "        if int(modo) == 0:\n",
        "            break\n",
        "        elif int(modo) == 1:\n",
        "            modoCompleto()\n",
        "        elif int(modo) == 2:\n",
        "            genLlaves()\n",
        "        elif int(modo) == 3:\n",
        "            cifrar()\n",
        "        elif int(modo) == 4:\n",
        "            decifrar()\n",
        "\n",
        "main()"
      ],
      "execution_count": 23,
      "outputs": [
        {
          "output_type": "stream",
          "text": [
            "\n",
            "xXX Bienvenido al criptosistema RSA XXx\n",
            "\n",
            "Por favor seleecione el modo: \n",
            "\t0. Salir\n",
            "\t1. Modo completo\n",
            "\t2. Generador de llaves\n",
            "\t3. Cifrar\n",
            "\t4. Decifrar\n",
            "1\n",
            "\n",
            "#########################\n",
            "# # # # # # # # # # # # #\n",
            "\n",
            "¿Qué desea encriptar?: \n",
            "Discretas es divertido!\n",
            "\n",
            "p: 2185340033\n",
            "q: 2731209431\n",
            "phi: 5968621303154901760\n",
            "\n",
            "Mensaje: Discretas es divertido!\n",
            "e (llave pública): 2440325977\n",
            "d (llave privada): 1194149029310517993\n",
            "N (p * q, módulo RSA): 5968621308071451223\n",
            "enc (Mensaje encriptado): 3259984103197604833 2504099672604481190 3835524776100845124 5897165866282258399 5164613849473487488 4852052213722165753 2271864977010619219 5825532187212583708 3835524776100845124 967839224007367648 4852052213722165753 3835524776100845124 967839224007367648 527728436819335728 2504099672604481190 1068953455635797701 4852052213722165753 5164613849473487488 2271864977010619219 2504099672604481190 527728436819335728 2231798771367755377 3176287416633309602 \n",
            "dec (Mensaje desencriptado): Discretas es divertido!\n",
            "\n",
            "# # # # # # # # # # # # #\n",
            "#########################\n",
            "\n",
            "xXX Bienvenido al criptosistema RSA XXx\n",
            "\n",
            "Por favor seleecione el modo: \n",
            "\t0. Salir\n",
            "\t1. Modo completo\n",
            "\t2. Generador de llaves\n",
            "\t3. Cifrar\n",
            "\t4. Decifrar\n",
            "0\n"
          ],
          "name": "stdout"
        }
      ]
    },
    {
      "cell_type": "markdown",
      "metadata": {
        "id": "YqDSGhOcmbd6",
        "colab_type": "text"
      },
      "source": [
        "## **Referencias**\n",
        "\n",
        "\n",
        "> [1]N. Koblitz, A course in number theory and cryptography, 2nd ed. Board, 1994.\n",
        "\n",
        "> [2] A. Quirís Gracián, \"Wayback Machine\", Web.archive.org, 2001. [Online]. Disponible en: https://web.archive.org/web/20100216223252/http://euroestan.com/criptografia.pdf. [Acceso: 22- Apb- 2020].\n",
        "\n",
        "> [3] Problema RSA - RSA problem. [Online]. Disponible en: https://es.qwe.wiki/wiki/RSA_problem. [Acceso: 22- Apb- 2020].\n",
        "\n",
        "> [4] Primality test, Miller Rabin. [Online]. Disponible en: https://www.geeksforgeeks.org/primality-test-set-3-miller-rabin/. [Acceso: 25- Apb- 2020.\n",
        "\n",
        "> [5] Test de primalidad para sistemas criptográficos. [Online]. Disponible en: https://zaguan.unizar.es/record/36937/files/TAZ-TFG-2015-4379.pdf. [Acceso: 26- Apb- 2020]\n",
        "\n",
        "> [6] Euler’s Totient Function. [Online]. Disponible en: https://www.geeksforgeeks.org/eulers-totient-function/. [Acceso: 20- Jun- 2020]\n",
        "\n",
        "> [7] Totient Function. [Online]. Disponible en: https://mathworld.wolfram.com/TotientFunction.html. [Acceso: 20- Jun- 2020]\n",
        "\n",
        "> [8] Euler Function. [Online]. Disponible en: http://www.math.unl.edu/~tmarley1/math189/notes/Nov20notes.pdf. [Acceso: 20- Jun- 2020]\n",
        "\n",
        "> [9] Algoritmo de Euclides Extendido, Francisco Gomez. [Online]. Disponible en: https://www.youtube.com/watch?v=t_tTE1iVBPA&feature=youtu.be. [Acceso: 21- May- 2020]\n",
        "\n",
        "> [10] El algoritmo RSA y la criptografía de llave pública. [Online]. Disponible en: http://bitybyte.github.io/Algoritmo-RSA/#:~:text=El%20teorema%20fundamental%20de%20la,conjunto%20%C3%BAnico%20de%20n%C3%BAmeros%20primos.&text=(S%C3%A1ltatelo%20por%20ahora)%20El%20Teorema,que%20el%20algoritmo%20RSA%20funcione.. [Acceso: 21- Jun- 2020]\n"
      ]
    }
  ]
}