{
  "nbformat": 4,
  "nbformat_minor": 0,
  "metadata": {
    "colab": {
      "name": "Taller_RSA",
      "provenance": [],
      "collapsed_sections": [],
      "mount_file_id": "1jfCViwb11FX8KuHlWlQrR-rkdTxrYxzp",
      "authorship_tag": "ABX9TyP9CwlQfMITcoJ9y0n515jh",
      "include_colab_link": true
    },
    "kernelspec": {
      "name": "python3",
      "display_name": "Python 3"
    }
  },
  "cells": [
    {
      "cell_type": "markdown",
      "metadata": {
        "id": "view-in-github",
        "colab_type": "text"
      },
      "source": [
        "<a href=\"https://colab.research.google.com/github/anjimenezp/Matematicas_Discretas_II_2025964/blob/talleres/Taller_RSA.ipynb\" target=\"_parent\"><img src=\"https://colab.research.google.com/assets/colab-badge.svg\" alt=\"Open In Colab\"/></a>"
      ]
    },
    {
      "cell_type": "markdown",
      "metadata": {
        "id": "A5_0ALT3hHQf",
        "colab_type": "text"
      },
      "source": [
        "<p><img alt=\"UNAL logo\" height=\"100px\" src=\"https://www.ingenieria.bogota.unal.edu.co/concursodocente_lapaz/images/logosimbolo_central_2c.png\" align=\"right\" hspace=\"0px\" vspace=\"0px\"></p>"
      ]
    },
    {
      "cell_type": "markdown",
      "metadata": {
        "id": "osm6YUL5dGlR",
        "colab_type": "text"
      },
      "source": [
        "<H1 align=\"center\"> Taller RSA </H1>\n",
        "<h3 align=\"center\">Andrés Felipe Jiménez Pérez</h3>\n",
        "<h3 align=\"center\">2025964 - Matemáticas Discretas II - Grupo 1</h3>\n",
        "<h4 align=\"center\">UNIVERSIDAD NACIONAL DE COLOMBIA</h4>\n",
        "<h3 align=\"center\">Abril 21, 2020</h3>"
      ]
    },
    {
      "cell_type": "markdown",
      "metadata": {
        "id": "aI8dFcekboQD",
        "colab_type": "text"
      },
      "source": [
        "## **1. Problema**\n",
        "\n",
        "**Se especifica cuál es el problema que resuelve RSA, y por qué es necesario introducir un algoritmo de este tipo.**"
      ]
    },
    {
      "cell_type": "markdown",
      "metadata": {
        "id": "gA9Xf4hXFqpQ",
        "colab_type": "text"
      },
      "source": [
        "El RSA (Rivest, Shamir y Adleman, creadores del sistema criptográfico), es un criptosistema de clave pública. A grandes rasgos, el problema RSA es la tarea de calcular de manera eficiente un $M$ dada una clave pública RSA $(N, e)$ y un texto encriptado $C \\equiv M^e \\pmod N$. Siendo $M$ el mensaje enviado confidencialmente de $A$ a $B$.\n",
        "\n",
        "Para entender lo dicho en el párrafo anterior, es necesario entender que el criptosistema RSA permite la comunicación confidencial entre dos parte $A$ y $B$, dandole a cada parte su propio par de claves o llaves (pública y privada). Siguiendo la idea anterior $A$ tendrá el par $(KP_A, kp_A)$, y $B$ $(KP_B, kp_B)$. Así, $KP$ es la clave pública conocida por ambas partes, y $kp$ es la clave privada la cual posee cada parte en secreto. Cada clave se compone de la siguiente manera:\n",
        "\n",
        "$$KP_A = (e_A, N_A)$$\n",
        "\n",
        "$$kp_A = (d_A, N_A)$$\n",
        "\n",
        "Luego, para proceder a encriptar un mensaje M enviado de $A$ a $B$ condidencialmente:\n",
        "\n",
        "1. $A$ debe conocer la clave pública del receptor $B$.\n",
        "2. Expresa el mensaje como un entero. Por ejemplo si el mensaje es \"Hi\", lo traduce usando _ASCII Code_: “H” 072 e \"i\" 105. Con $M < N$.\n",
        "3. Encripta el mensaje meidante la expresión: $C \\equiv M^{e_B} \\pmod {N_B}$.\n",
        "4. Envía criptomensaje $C$.\n",
        "\n",
        "Finalmente, para desencriptar el criptomensaje $C$ recibido por $B$:\n",
        "\n",
        "1. $B$ mediante su clave privada $d_B, N_B$ desencripta meidante la expresión: $M \\equiv C^{d_B} \\pmod {N_B}$.\n",
        "2. Obtiene el mensaje original expresado en su forma entera.\n",
        "\n",
        "Es necesario introducir un algoritmo de este tipo puesto que se requiere una forma eficiente de garantizar la seguridad y confidencialidad de la comunicación entre dos partes. En principio se cifra un mensaje, el cual será transmitido por una canal inseguro, y luego se descifra cuando ha llegado al receptor. Además de lo anterior, este algoritmo proporciona la posibilidad de verificar la autenticidad del receptor, ya que al encriptar es necesario la llave pública exclusiva del destinatario, para que luego éste sea capaz de desencriptarla mediante su llave privada."
      ]
    },
    {
      "cell_type": "markdown",
      "metadata": {
        "id": "780ljPwyrb22",
        "colab_type": "text"
      },
      "source": [
        "## **2. Desarrollo matemático del algoritmo**\n",
        "\n",
        "**Se especifican todos los pasos del algoritmo y se explica de forma detallada cada uno de los pasos. Si el algoritmo hace uso de algunos resultados formales (teoremas), estos se enuncian y se prueban de ser necesario.**"
      ]
    },
    {
      "cell_type": "markdown",
      "metadata": {
        "id": "1IOXgw0NkH_G",
        "colab_type": "text"
      },
      "source": [
        "Como ayuda a la comprensión del algorito, se presenta el siguiente diagrama:"
      ]
    },
    {
      "cell_type": "markdown",
      "metadata": {
        "id": "TL76N-or6WP6",
        "colab_type": "text"
      },
      "source": [
        "<p><img alt=\"RSA algorithm\" height=\"200px\" src=\"https://javainterviewpoint.com/wp-content/uploads/2019/03/RSA-Encryption-and-Decryption-in-Java.png\" align=\"center\" hspace=\"0px\" vspace=\"0px\"></p>"
      ]
    },
    {
      "cell_type": "markdown",
      "metadata": {
        "id": "byW8k6UhBE0s",
        "colab_type": "text"
      },
      "source": [
        "Ahora bien, a medida que se explique el desarrollo matemático del algoritmo se hirá planteando el correspondiente código el cual será implementado en la cuarta sección."
      ]
    },
    {
      "cell_type": "markdown",
      "metadata": {
        "id": "o2QRYHlMBqQo",
        "colab_type": "text"
      },
      "source": [
        "Como se mencionó en la primera parte del presente docuemento, el emisor del mensaje debe conocer la llave pública del receptor. Asimismo, tal destinatario posee una correspondite llave privada. Por tanto, el primer paso es generar tales llaves como se muestra a continuación:\n",
        "\n",
        "1. Generar dos números primos $p$ y $q$. Entre más grandes sean, más \"seguro\" será el cifrado.\n",
        "\n",
        "2. Calcular el módulo a usar en el RSA:\n",
        "$$N = p \\cdot q$$\n",
        "\n",
        "3. Calcular función _totiente_ de Euler:\n",
        "$$\\varphi (N) = (p - 1)(q - 1)$$\n",
        "\n",
        "4. Seleciconar llave pública $e$, la cual es primo relativo con $\\varphi (N)$, es decir que no tiene ningún divisor en común excepto el 1:\n",
        "$$mcd(e, \\varphi (N)) = 1$$\n",
        "$$1 < e <  \\varphi (N)$$\n",
        "\n",
        "5. Seleciconar llave privada $d$, la cual es el inverso multiplicativo de $e$ módulo $\\varphi (N)$:\n",
        "$$e \\cdot d \\equiv 1 \\pmod {\\varphi (N) }$$\n",
        "Esto se puede hallar mediante el algoritmo extendido de Euclides. Siendo éste un una ligera modificación del algoritmo de Euclides que permite además expresar al máximo común divisor como una combinación lineal."
      ]
    },
    {
      "cell_type": "markdown",
      "metadata": {
        "id": "CnpPHEF1xJp1",
        "colab_type": "text"
      },
      "source": [
        "Est es una funcion que le da comida a canela"
      ]
    },
    {
      "cell_type": "markdown",
      "metadata": {
        "id": "UrL2wfNHq3PK",
        "colab_type": "text"
      },
      "source": [
        "### **2.1. Generar dos números primos $p$ y $q$. Entre más grandes sean, más \"seguro\" será el cifrado.**\n"
      ]
    },
    {
      "cell_type": "markdown",
      "metadata": {
        "id": "lGiow4tIqyDL",
        "colab_type": "text"
      },
      "source": [
        "Primero es bueno definir en bits el rango donde estarán las llaves (lo denotaremos como $tamanioLlave$), teniendo en cuenta que si se define $tamanioLlave = 4 bits$ entonces el rango será:\n",
        "\n",
        "$$ 1111 \\leq key \\leq 1000 $$\n",
        "\n",
        "lo que es igual a \n",
        "\n",
        "$$ 15 \\leq key \\leq 8 $$\n",
        "\n",
        "o matemáticamente\n",
        "\n",
        "$$ 2^{tamanioLlave} - 1 \\leq key \\leq 2^{tamanioLlave - 1} $$\n",
        "\n",
        "Ahora bien, definiremos una función nombrada $generarLlaves(tamanioLlaves)$:"
      ]
    },
    {
      "cell_type": "code",
      "metadata": {
        "id": "z0gC3ZCWrjnI",
        "colab_type": "code",
        "colab": {}
      },
      "source": [
        "def generarLlaves(tamanioLlave): \n",
        "    e = d = N = 0   # e : llave pública; d : llave privada; N: p * q\n",
        "\n",
        "    # vamos a obtener números primos p y q\n",
        "    p = generarPrimos(tamanioLlave)\n",
        "    q = generarPrimos(tamanioLlave)\n",
        "\n",
        "    print(f\"\\np: {p}\")\n",
        "    print(f\"q: {q}\")\n",
        "\n",
        "    N = p * q\n",
        "    phiN = (p - 1) * (q - 1)    #función totient\n",
        "\n",
        "    # elegimos e, el cual es coprimo con phiN \n",
        "    # 1 <= e <= phiN\n",
        "    while True:\n",
        "        e = random.randrange(2 ** (tamanioLlave - 1), 2 ** tamanioLlave - 1)\n",
        "        if (esCoprimo(phiN, e)):\n",
        "            break   # termina loop\n",
        "\n",
        "    # elegimos d, el cual es el inverso multiplicativo modular de e\n",
        "    # modulo phiN\n",
        "    # e * d (mod phiN) = 1\n",
        "\n",
        "    d = modularInv(e, phiN)\n",
        "\n",
        "    return e, d, N"
      ],
      "execution_count": null,
      "outputs": []
    },
    {
      "cell_type": "markdown",
      "metadata": {
        "id": "1IrVF8nv1wh8",
        "colab_type": "text"
      },
      "source": [
        "La funcion $generarPrimos$ consiste en crear aleatoriamente números con el rango definido por $tamanioLlave$ (tal como se explico anteriormente), y luego se verifica si tal número es primo con la función $esPrimo(num)$. Finalmente, se retorna el número primo hallado:"
      ]
    },
    {
      "cell_type": "code",
      "metadata": {
        "id": "BUdFuDMh2myb",
        "colab_type": "code",
        "colab": {}
      },
      "source": [
        "def generarPrimos(tamanioLlave):\n",
        "    \n",
        "    # tamanioLlave es el rango de bits que\n",
        "    # tendrá el primo generado aleatoriamente\n",
        "\n",
        "    while True:\n",
        "        num = random.randrange(2 ** (tamanioLlave - 1), 2 ** tamanioLlave - 1)\n",
        "        if(esPrimo(num)):\n",
        "            return num"
      ],
      "execution_count": null,
      "outputs": []
    },
    {
      "cell_type": "markdown",
      "metadata": {
        "id": "9KRwiAlg2xGg",
        "colab_type": "text"
      },
      "source": [
        "La función $esPrimo(n)$ se compone a grandes rasgos de cuatro secciones con el fin de crear un test de primalidad. Se retorna $True$ si el número es primo:\n",
        "\n",
        "1. El $0$ y el $1$ son números especiales que no se consideran primos ni compuestos. Por ende retorna $False$.\n",
        "\n",
        "2. Para hacer eficiente el test, se tiene en memoria un arreglo de primos pequeños. Así, si $n$ no se encuentra en el arreglo retorna $False$.\n",
        "\n",
        "3. Si $n$ es divisible por algún primo pequeño del arreglo, retorna $False$.\n",
        "\n",
        "4. Probar que no es primo mediante test de primalidad de _Miller Rabin_. Tal test es un método probabilístico, pero es generalmente preferido sobre el test de primalidad mediante método de Fermat. Devuelve falso si $n$ es compuesto y devuelve verdadero si $n$ es probablemente primo. $k$ es un parámetro de entrada que determina nivel de precisión. Un valor más alto de $k$ indica más precisión. En la siguiente sección indagaremos en el test de primalidad de _Miller Rabin_.\n",
        "\n",
        "El código a continuación es el desarrollo de la función $esPrimo(n)$, compuesta por los puntos anteriormente mencionados."
      ]
    },
    {
      "cell_type": "code",
      "metadata": {
        "id": "HEu-RJMp897u",
        "colab_type": "code",
        "colab": {}
      },
      "source": [
        "def esPrimo(n):\n",
        "\n",
        "    #Retorna True si n es primo\n",
        "    #y se recurre al test de primalidada de Miller Rabin para tener más certeza\n",
        "    \n",
        "\n",
        "    # 1. El 0 y el 1 son números especiales que no se consideran primos ni compuestos.\n",
        "    if n < 2:\n",
        "        return False\n",
        "\n",
        "    # 2. Arreglo de primos pequeños en memoria (https://pastebin.com/2yGpCpJr, 2020)\n",
        "    primosPequenios = [2, 3, 5, 7, 11, 13, 17, 19, 23, 29, 31, 37, 41, 43, 47, 53, 59, 61, 67, 71, 73, 79, 83, 89, 97, 101, 103, 107, 109, 113, 127, 131, 137, 139, 149, 151, 157, 163, 167, 173, 179, 181, 191, 193, 197, 199, 211, 223, 227, 229, 233, 239, 241, 251, 257, 263, 269, 271, 277, 281, 283, 293, 307, 311, 313, 317, 331, 337, 347, 349, 353, 359, 367, 373, 379, 383, 389, 397, 401, 409, 419, 421, 431, 433, 439, 443, 449, 457, 461, 463, 467, 479, 487, 491, 499, 503, 509, 521, 523, 541, 547, 557, 563, 569, 571, 577, 587, 593, 599, 601, 607, 613, 617, 619, 631, 641, 643, 647, 653, 659, 661, 673, 677, 683, 691, 701, 709, 719, 727, 733, 739, 743, 751, 757, 761, 769, 773, 787, 797, 809, 811, 821, 823, 827, 829, 839, 853, 857, 859, 863, 877, 881, 883, 887, 907, 911, 919, 929, 937, 941, 947, 953, 967, 971, 977, 983, 991, 997]\n",
        "\n",
        "    # si n está en arreglo primosPequenios\n",
        "    if n in primosPequenios:\n",
        "        return True\n",
        "\n",
        "    # 3. Si n es divisible por primos pequeños\n",
        "    for primo in primosPequenios:\n",
        "        if n % primo == 0:\n",
        "            return False\n",
        "\n",
        "    # 4. Encontrar un número c tal que c * 2 ^ r = n - 1. \n",
        "    c = n - 1   # c es par porque n no es divisible por 2\n",
        "    while c % 2 == 0: \n",
        "        c /= 2  # hace c impar\n",
        "\n",
        "    # Probar que no es primo mediante test de primalidad de Miller Rabin\n",
        "    # Tal test es un método probabilístico, pero es generalmente preferido\n",
        "    # sobre el test de primalidad mediante método de Fermat\n",
        "    # Devuelve falso si n es compuesto y devuelve verdadero si n \n",
        "    # es probablemente primo. k es un parámetro de entrada que determina \n",
        "    # nivel de precisión. Un valor más alto de k indica más precisión.    \n",
        "    for i in range(128):\n",
        "        if not testPrimalidadRabin(n, c):\n",
        "            return False\n",
        "    \n",
        "    return True"
      ],
      "execution_count": null,
      "outputs": []
    },
    {
      "cell_type": "markdown",
      "metadata": {
        "id": "lYna3Nd67ikY",
        "colab_type": "text"
      },
      "source": [
        "#### **2.1.1. Test de primalidad de Miller Rabin**"
      ]
    },
    {
      "cell_type": "markdown",
      "metadata": {
        "id": "yiUMioZZUHPQ",
        "colab_type": "text"
      },
      "source": [
        "Como se puede detallar en el la referencia [5], \"El test de Miller-Rabin es el sistema que más se utiliza en la actualidad dada su rapidez, aunque se sacrifica la certitud de un test de primalidad, con pocas iteraciones que se realicen se alcanza una muy buena precisión. El algoritmo se basa en el siguiente lema:\"\n",
        "\n",
        "**Lema 2.1.1.** Sea $p$ un número primo, y sea $x \\in \\mathbb Z_p$ tal que\n",
        "\n",
        "$$x^2 \\equiv 1 \\pmod p$$\n",
        "\n",
        "entonces, $x \\equiv 1$ o bien $x \\equiv p - 1$ en módulo $p$.\n",
        "\n",
        "**Demostración.** Dado que el número $p$ es número primo, y $\\mathbb Z_p$ es un dominio de integridad (i.e. un anillo de integridad $(A,+,\\cdot)$ con unidad, conmutativa y con división se llama dominio de integridad cuando no posee elementos divisores de cero), por tanto se tine\n",
        "\n",
        "$$x^2 \\equiv 1 \\pmod p$$\n",
        "\n",
        "$$x^2 - 1 \\equiv 0 \\pmod p$$\n",
        "\n",
        "$$(x + 1)(x - 1) \\equiv 0 \\pmod p$$\n",
        "\n",
        "Como $\\mathbb Z_p$ es un dominio de integridad, se tiene o bien $x \\equiv 1$ o bien $x \\equiv -1 \\equiv p - 1$. $\\square$\n",
        "\n",
        "**Lema 2.1.2. (Miller - Rabin).** Sea $p$ un número primo, expresamos $p - 1 \\equiv 2^s m$ donde $m$ es número impar, entonces para todo $a$ en $\\mathbb Z_p$ ($\\forall a \\in \\mathbb Z_p$) se tiene\n",
        "\n",
        "$$a^m \\equiv 1$$\n",
        "\n",
        "o por el contrario, existe al menos un $r$ entre $0$ y $s - 1$ tal que\n",
        "\n",
        "$$a^{2^r m} \\equiv -1$$\n",
        "\n",
        "**Demostración.** Por el teorema de Fermat (demostrado en el Sección 2.1.2.) tenemos que \n",
        "\n",
        "$$a^{p - 1} \\equiv a^{2^s m} \\equiv 1$$\n",
        "\n",
        "luego por el lema anterior tenemos\n",
        "\n",
        "$$a^{2^{s - 1} m} \\equiv 1$$\n",
        "\n",
        "o bien\n",
        "\n",
        "$$a^{2^{s - 1} m} \\equiv -1$$\n",
        "\n",
        "En el caso de que $a^{2^{s - 1} m} \\equiv -1$ tenemos el resultado. En el caso contrario si $s \\neq 1$ se puede volver a calcular la raíz cuadrada y tenemos de nuevo por el lema anterior \n",
        "\n",
        "$$a^{2^{s - 2} m} \\equiv 1$$\n",
        "\n",
        "o bien\n",
        "\n",
        "$$a^{2^{s - 2} m} \\equiv -1$$\n",
        "\n",
        "iterando sucesivamente hasta econtrar $-1$ o bien llegamos a\n",
        "\n",
        "$$a^{2^{0} m} \\equiv a^m \\equiv 1$$\n",
        "\n",
        "o \n",
        "\n",
        "$$a^m \\equiv -1$$\n",
        "\n",
        "Así, en ambos casos obtenemos el resultado. $\\square$\n",
        "\n",
        "El código a continuación es la respectiva implementación del test de primalidad de Miller Rabin."
      ]
    },
    {
      "cell_type": "code",
      "metadata": {
        "id": "YA4y5j1RdLIk",
        "colab_type": "code",
        "colab": {}
      },
      "source": [
        "# Test de primalidad de Miller Rabin. Para más información: (https://www.geeksforgeeks.org/primality-test-set-3-miller-rabin/, 2020)\n",
        "# Probar que no es primo mediante test de primalidad de Miller Rabin.\n",
        "# Tal test es un método probabilístico, pero es generalmente preferido\n",
        "# sobre el test de primalidad mediante método de Fermat.\n",
        "# Devuelve falso si n es compuesto y devuelve verdadero si n \n",
        "# es probablemente primo. k es un parámetro de entrada que determina \n",
        "# nivel de precisión. Un valor más alto de k indica más precisión.    \n",
        "def testPrimalidadRabin(n, d):\n",
        "    a = random.randint(2, (n - 2))\n",
        "    # a^c % n\n",
        "    x = pow(a, int(d), n)\n",
        "    if x == 1 or x == n - 1:\n",
        "        return True\n",
        "\n",
        "    # x^2 % n\n",
        "    while d != n - 1:\n",
        "        x = pow(x, 2, n)\n",
        "        d *= 2\n",
        "\n",
        "        if x == 1:\n",
        "            return False\n",
        "        elif x == n - 1:\n",
        "            return True\n",
        "\n",
        "    # es no primo\n",
        "    return False"
      ],
      "execution_count": null,
      "outputs": []
    },
    {
      "cell_type": "markdown",
      "metadata": {
        "id": "7uARZHQYjSZZ",
        "colab_type": "text"
      },
      "source": [
        "#### **2.1.2. Pequeño teorema de Fermat**"
      ]
    },
    {
      "cell_type": "markdown",
      "metadata": {
        "id": "L-O-uKuWjew_",
        "colab_type": "text"
      },
      "source": [
        "Al estudiar la referencia [5], se observa la importancia del siguiente Teorema para lograr el desarrollo del test de primalidad desarrollado en el presente algoritmo criptográfico.\n",
        "\n",
        "**Teorema 2.1.1. (Pequeño teorema de Fermat).** Sea $p \\in \\mathbb N$ un número primo, entoces se tiene que $\\forall a \\in \\mathbb Z_p$, $a \\neq 0$, $p \\nmid a$\n",
        "\n",
        "$$a^{p - 1} \\equiv 1 \\pmod p$$\n",
        "\n",
        "De forma equivalente podemos escribir $a^p \\equiv a \\pmod p$\n",
        "\n",
        "Primero veamos un ejemplo\n",
        "\n",
        "$$2^{5 - 1} = 2^4 = 16 \\equiv 1 \\pmod 5$$\n",
        "\n",
        "Para observar _Full Proof_ del teorema véase Referencia [5]. A continuación se muestra un _Sketch of Proof_.\n",
        "\n",
        "**Sketch of Proof.** En primera medida es posible ver que $$0, 1, 2, 3, \\cdots, p - 1$$ son todos elementos de $\\pmod p$. Ahora nótese que dado $\\pmod 5$ y $a = 8$ tenemos $$8 \\times (1, 2, 3, 4) = 8, 16, 24, 32$$ pero $$8, 16, 24, 32 \\equiv 3, 1, 4, 2 \\pmod 5$$ por tanto $$a \\times (1, 2, 3, \\cdots, p - 1) \\equiv (1, 2, 3, \\cdots, p - 1) \\pmod p$$ entonces $$a \\cdot 2a \\cdot 3a \\cdots (p - 1) a \\equiv 1 \\cdot 2 \\cdot 3 \\cdots (p - 1) \\pmod p$$ simplificando $$a^{p - 1} (p - 1)! \\equiv (p - 1)! \\pmod p$$\n",
        "finalmente $$a^{p - 1} \\equiv 1 \\pmod p$$ $\\square$"
      ]
    },
    {
      "cell_type": "markdown",
      "metadata": {
        "id": "z5wZKNUokMpW",
        "colab_type": "text"
      },
      "source": [
        "## **3. Ejemplo del algoritmo**\n",
        "\n",
        "**Ejemplo numérico sencillo que aclara el funcionamiento del algoritmo.**\n",
        "\n",
        "The document you are reading is not a static web page, but an interactive environment called a **Colab notebook** that lets you write and execute code.\n",
        "\n",
        "For example, here is a **code cell** with a short Python script that computes a value, stores it in a variable, and prints the result:"
      ]
    },
    {
      "cell_type": "markdown",
      "metadata": {
        "id": "BwmkLv8FkZGm",
        "colab_type": "text"
      },
      "source": [
        "## **4. Implementación del algoritmo**\n",
        "\n",
        "**El algoritmo se implementa en lenguaje pyhton. La sección de implementación incluye un conjunto de ejemplos del uso del algoritmo.**\n",
        "\n",
        "The document you are reading is not a static web page, but an interactive environment called a **Colab notebook** that lets you write and execute code.\n",
        "\n",
        "For example, here is a **code cell** with a short Python script that computes a value, stores it in a variable, and prints the result:"
      ]
    },
    {
      "cell_type": "markdown",
      "metadata": {
        "id": "YqDSGhOcmbd6",
        "colab_type": "text"
      },
      "source": [
        "## **Referencias**\n",
        "\n",
        "\n",
        "> [1]N. Koblitz, A course in number theory and cryptography, 2nd ed. Board, 1994.\n",
        "\n",
        "> [2] A. Quirís Gracián, \"Wayback Machine\", Web.archive.org, 2001. [Online]. Disponible en: https://web.archive.org/web/20100216223252/http://euroestan.com/criptografia.pdf. [Acceso: 22- Apb- 2020].\n",
        "\n",
        "> [3] Problema RSA - RSA problem. [Online]. Disponible en: https://es.qwe.wiki/wiki/RSA_problem. [Acceso: 22- Apb- 2020].\n",
        "\n",
        "> [4] Primality test, Miller Rabin. [Online]. Disponible en: https://www.geeksforgeeks.org/primality-test-set-3-miller-rabin/. [Acceso: 25- Apb- 2020.\n",
        "\n",
        "> [5] Test de primalidad para sistemas criptográficos. [Online]. Disponible en: https://zaguan.unizar.es/record/36937/files/TAZ-TFG-2015-4379.pdf. [Acceso: 26- Apb- 2020]\n"
      ]
    }
  ]
}