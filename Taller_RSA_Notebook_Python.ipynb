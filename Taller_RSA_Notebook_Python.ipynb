{
  "nbformat": 4,
  "nbformat_minor": 0,
  "metadata": {
    "colab": {
      "name": "Taller_RSA_Notebook_Python",
      "provenance": [],
      "mount_file_id": "1jfCViwb11FX8KuHlWlQrR-rkdTxrYxzp",
      "authorship_tag": "ABX9TyM2b+wlw6zHCW6d+QuBWfK+",
      "include_colab_link": true
    },
    "kernelspec": {
      "name": "python3",
      "display_name": "Python 3"
    }
  },
  "cells": [
    {
      "cell_type": "markdown",
      "metadata": {
        "id": "view-in-github",
        "colab_type": "text"
      },
      "source": [
        "<a href=\"https://colab.research.google.com/github/anjimenezp/Matematicas_Discretas_II_2025964/blob/talleres/Taller_RSA_Notebook_Python.ipynb\" target=\"_parent\"><img src=\"https://colab.research.google.com/assets/colab-badge.svg\" alt=\"Open In Colab\"/></a>"
      ]
    },
    {
      "cell_type": "markdown",
      "metadata": {
        "id": "A5_0ALT3hHQf",
        "colab_type": "text"
      },
      "source": [
        "<p><img alt=\"UNAL logo\" height=\"100px\" src=\"https://www.ingenieria.bogota.unal.edu.co/concursodocente_lapaz/images/logosimbolo_central_2c.png\" align=\"right\" hspace=\"10px\" vspace=\"0px\"></p>"
      ]
    },
    {
      "cell_type": "markdown",
      "metadata": {
        "id": "osm6YUL5dGlR",
        "colab_type": "text"
      },
      "source": [
        "<H1 align=\"center\"> Taller RSA </H1>\n",
        "<h3 align=\"center\">Andrés Felipe Jiménez Pérez</h3>\n",
        "<h3 align=\"center\">2025964 - Matemáticas Discretas II - Grupo 1</h3>\n",
        "<h4 align=\"center\">UNIVERSIDAD NACIONAL DE COLOMBIA</h4>\n",
        "<h3 align=\"center\">Abril 21, 2020</h3>"
      ]
    },
    {
      "cell_type": "markdown",
      "metadata": {
        "id": "gA9Xf4hXFqpQ",
        "colab_type": "text"
      },
      "source": [
        "## **Problema**\n",
        "\n",
        "**Se especifica cuál es el problema que resuelve RSA, y por qué es necesario introducir un algoritmo de este tipo.**\n",
        "\n",
        "The document you are reading is not a static web page, but an interactive environment called a **Colab notebook** that lets you write and execute code.\n",
        "\n",
        "For example, here is a **code cell** with a short Python script that computes a value, stores it in a variable, and prints the result:"
      ]
    }
  ]
}